{
  "nbformat": 4,
  "nbformat_minor": 0,
  "metadata": {
    "colab": {
      "name": "Welcome To Colaboratory",
      "provenance": [],
      "collapsed_sections": [],
      "toc_visible": true,
      "include_colab_link": true
    },
    "kernelspec": {
      "display_name": "Python 3",
      "name": "python3"
    }
  },
  "cells": [
    {
      "cell_type": "markdown",
      "metadata": {
        "id": "view-in-github",
        "colab_type": "text"
      },
      "source": [
        "<a href=\"https://colab.research.google.com/github/19A21B0508/python-lab/blob/main/python%20files.ipynb\" target=\"_parent\"><img src=\"https://colab.research.google.com/assets/colab-badge.svg\" alt=\"Open In Colab\"/></a>"
      ]
    },
    {
      "cell_type": "markdown",
      "metadata": {
        "id": "GbQ2-8cl2Vcw"
      },
      "source": [
        "NAME: BH SAI GANESH\n",
        "SECTION: CSE-SHIFT\n",
        "REG NO: 19A21B0508"
      ]
    },
    {
      "cell_type": "code",
      "metadata": {
        "colab": {
          "base_uri": "https://localhost:8080/"
        },
        "id": "kFG-dGqw091g",
        "outputId": "a81180d1-ccc7-4b45-8944-9d7b74f7778c"
      },
      "source": [
        "#Exercise-1 - Basies\n",
        "# a) Running instructions in Interactive interpreter and a Python Script \n",
        "\n",
        "print(\"Hello, ganesh\")"
      ],
      "execution_count": 1,
      "outputs": [
        {
          "output_type": "stream",
          "text": [
            "Hello, ganesh\n"
          ],
          "name": "stdout"
        }
      ]
    },
    {
      "cell_type": "code",
      "metadata": {
        "colab": {
          "base_uri": "https://localhost:8080/",
          "height": 129
        },
        "id": "MF1ddEi82Bwe",
        "outputId": "f41b3b2d-fd11-4536-a622-1e3a94fe4f86"
      },
      "source": [
        "# b) Write a program to purposefully raise Indentation Error and Corret it\n",
        "if i range(10):\n",
        " print(i)"
      ],
      "execution_count": 2,
      "outputs": [
        {
          "output_type": "error",
          "ename": "SyntaxError",
          "evalue": "ignored",
          "traceback": [
            "\u001b[0;36m  File \u001b[0;32m\"<ipython-input-2-20ef1176fcb5>\"\u001b[0;36m, line \u001b[0;32m2\u001b[0m\n\u001b[0;31m    if i range(10):\u001b[0m\n\u001b[0m             ^\u001b[0m\n\u001b[0;31mSyntaxError\u001b[0m\u001b[0;31m:\u001b[0m invalid syntax\n"
          ]
        }
      ]
    },
    {
      "cell_type": "code",
      "metadata": {
        "colab": {
          "base_uri": "https://localhost:8080/"
        },
        "id": "NEoi5fIf3Gf9",
        "outputId": "6ff80331-9bfc-4f33-d037-07bd4427b9ed"
      },
      "source": [
        "#Exercise 2-Operations\n",
        "\n",
        "#Write a program to compute distance between two points taking input from the user (Pythagorean Theorem)\n",
        "import math\n",
        "x1=int(input(\"enter x1 value : \"))\n",
        "x2=int(input(\"enter x2 value : \"))\n",
        "\n",
        "y1=int(input(\"enter y1 value : \"))\n",
        "y2=int(input(\"enter y2 value : \"))\n",
        "\n",
        "print(\"Distance between given two points(x1,x2)(y1,y2) :\",float(math.sqrt((x2-x1)**2+(y2-y1)**2)))"
      ],
      "execution_count": 4,
      "outputs": [
        {
          "output_type": "stream",
          "text": [
            "enter x1 value : 2\n",
            "enter x2 value : 3\n",
            "enter y1 value : 6\n",
            "enter y2 value : 7\n",
            "Distance between given two points(x1,x2)(y1,y2) : 1.4142135623730951\n"
          ],
          "name": "stdout"
        }
      ]
    },
    {
      "cell_type": "code",
      "metadata": {
        "colab": {
          "base_uri": "https://localhost:8080/",
          "height": 231
        },
        "id": "_NLc8Cwr3du7",
        "outputId": "fe85d305-2b45-49b2-f6df-bc6d5c3d814c"
      },
      "source": [
        "# Write a program add.py that takes 2 numbers as command line arguments and prints its sum.\n",
        "\n",
        "import sys\n",
        "\n",
        "a=int(sys.argv[1])\n",
        "b=int(sys.argv[2])\n",
        " \n",
        "print(\"Sum = \",(a+b))"
      ],
      "execution_count": 6,
      "outputs": [
        {
          "output_type": "error",
          "ename": "ValueError",
          "evalue": "ignored",
          "traceback": [
            "\u001b[0;31m---------------------------------------------------------------------------\u001b[0m",
            "\u001b[0;31mValueError\u001b[0m                                Traceback (most recent call last)",
            "\u001b[0;32m<ipython-input-6-95cf8e810361>\u001b[0m in \u001b[0;36m<module>\u001b[0;34m()\u001b[0m\n\u001b[1;32m      3\u001b[0m \u001b[0;32mimport\u001b[0m \u001b[0msys\u001b[0m\u001b[0;34m\u001b[0m\u001b[0;34m\u001b[0m\u001b[0m\n\u001b[1;32m      4\u001b[0m \u001b[0;34m\u001b[0m\u001b[0m\n\u001b[0;32m----> 5\u001b[0;31m \u001b[0ma\u001b[0m\u001b[0;34m=\u001b[0m\u001b[0mint\u001b[0m\u001b[0;34m(\u001b[0m\u001b[0msys\u001b[0m\u001b[0;34m.\u001b[0m\u001b[0margv\u001b[0m\u001b[0;34m[\u001b[0m\u001b[0;36m1\u001b[0m\u001b[0;34m]\u001b[0m\u001b[0;34m)\u001b[0m\u001b[0;34m\u001b[0m\u001b[0;34m\u001b[0m\u001b[0m\n\u001b[0m\u001b[1;32m      6\u001b[0m \u001b[0mb\u001b[0m\u001b[0;34m=\u001b[0m\u001b[0mint\u001b[0m\u001b[0;34m(\u001b[0m\u001b[0msys\u001b[0m\u001b[0;34m.\u001b[0m\u001b[0margv\u001b[0m\u001b[0;34m[\u001b[0m\u001b[0;36m2\u001b[0m\u001b[0;34m]\u001b[0m\u001b[0;34m)\u001b[0m\u001b[0;34m\u001b[0m\u001b[0;34m\u001b[0m\u001b[0m\n\u001b[1;32m      7\u001b[0m \u001b[0;34m\u001b[0m\u001b[0m\n",
            "\u001b[0;31mValueError\u001b[0m: invalid literal for int() with base 10: '-f'"
          ]
        }
      ]
    },
    {
      "cell_type": "markdown",
      "metadata": {
        "id": "A3UlX3DP32EE"
      },
      "source": [
        "output: PS C:\\Users\\GANESH\\Desktop\\python\\exercise-2> python Q2.py 10 20 Sum = 30"
      ]
    },
    {
      "cell_type": "code",
      "metadata": {
        "colab": {
          "base_uri": "https://localhost:8080/"
        },
        "id": "2l2hHTQK39n7",
        "outputId": "a3b325bc-442e-4547-c568-c99bcd8dad42"
      },
      "source": [
        "# Write a Program for checking whether the given number is an even number or not. \n",
        "n=int(input(\"enter a number to check even/odd : \"))\n",
        "\n",
        "if (n%2==0):\n",
        "    print(\"Given numver \",n,\" is Even\")\n",
        "else:\n",
        "    print(\"Given numver \",n,\" is Odd\")"
      ],
      "execution_count": 7,
      "outputs": [
        {
          "output_type": "stream",
          "text": [
            "enter a number to check even/odd : 5\n",
            "Given numver  5  is Odd\n"
          ],
          "name": "stdout"
        }
      ]
    },
    {
      "cell_type": "code",
      "metadata": {
        "colab": {
          "base_uri": "https://localhost:8080/"
        },
        "id": "rgEg9LQX4H4Z",
        "outputId": "3b9bba19-7bd5-44fd-ad12-0f29c4585a35"
      },
      "source": [
        "#Exercise-3 Control Flow\n",
        "\n",
        "# Using a for loop, write a program that prints out the decimal equivalents of 1/2, 1/3, 1/4,. .1/10 \n",
        "\n",
        "n=int(input(\"enter limit for decimal equivalents of (1/2, 1/3, 1/4,. .1/10) : \"))\n",
        "\n",
        "for i in range(2,n):\n",
        "    print(\"1/\",i,\" = \",(1/i))"
      ],
      "execution_count": 8,
      "outputs": [
        {
          "output_type": "stream",
          "text": [
            "enter limit for decimal equivalents of (1/2, 1/3, 1/4,. .1/10) : 12\n",
            "1/ 2  =  0.5\n",
            "1/ 3  =  0.3333333333333333\n",
            "1/ 4  =  0.25\n",
            "1/ 5  =  0.2\n",
            "1/ 6  =  0.16666666666666666\n",
            "1/ 7  =  0.14285714285714285\n",
            "1/ 8  =  0.125\n",
            "1/ 9  =  0.1111111111111111\n",
            "1/ 10  =  0.1\n",
            "1/ 11  =  0.09090909090909091\n"
          ],
          "name": "stdout"
        }
      ]
    },
    {
      "cell_type": "code",
      "metadata": {
        "colab": {
          "base_uri": "https://localhost:8080/"
        },
        "id": "kUDb7ha04aGA",
        "outputId": "9322652c-a833-48da-9633-6b866865edc2"
      },
      "source": [
        "#Write a program using a for loop that loops over a sequence. What is sequence? \n",
        "\n",
        "sem4_subjects=[\"python\",\"DAA\",\"OS\",\"DBMS\",\"P&S\",\"SE\"]\n",
        "\n",
        "print(\"-------Sem four Subjects--------\")\n",
        "for i in sem4_subjects:\n",
        "    print(i)"
      ],
      "execution_count": 9,
      "outputs": [
        {
          "output_type": "stream",
          "text": [
            "-------Sem four Subjects--------\n",
            "python\n",
            "DAA\n",
            "OS\n",
            "DBMS\n",
            "P&S\n",
            "SE\n"
          ],
          "name": "stdout"
        }
      ]
    },
    {
      "cell_type": "code",
      "metadata": {
        "colab": {
          "base_uri": "https://localhost:8080/"
        },
        "id": "CCJhyp684gT3",
        "outputId": "624d4f80-c65c-4020-969c-0f0ed318300d"
      },
      "source": [
        "# Write a program using a while loop that asks the user for a number, and prints a countdown from that number to zero.\n",
        "\n",
        "n=int(input(\"enter starting point of Countdown: \"))\n",
        "\n",
        "print(\"Countdown Starts:-\")\n",
        "while n>=0:\n",
        "    print(n)\n",
        "    n-=1"
      ],
      "execution_count": 10,
      "outputs": [
        {
          "output_type": "stream",
          "text": [
            "enter starting point of Countdown: 10\n",
            "Countdown Starts:-\n",
            "10\n",
            "9\n",
            "8\n",
            "7\n",
            "6\n",
            "5\n",
            "4\n",
            "3\n",
            "2\n",
            "1\n",
            "0\n"
          ],
          "name": "stdout"
        }
      ]
    },
    {
      "cell_type": "code",
      "metadata": {
        "colab": {
          "base_uri": "https://localhost:8080/"
        },
        "id": "56aeoBXU4o_6",
        "outputId": "1d7dd030-2066-4457-e11c-2330d2b4ec4f"
      },
      "source": [
        "#Exercise-4-Control Flow - Continued\n",
        "                   \n",
        "# Find the sum of all the primes below two million. \n",
        " \n",
        "        \n",
        "n=int(input(\"enter Limit for sum of primes : \"))\n",
        "psum=0\n",
        "for i in range(2,n+1):\n",
        "    c=0\n",
        "    for j in range(2,i+1):\n",
        "        if i%j==0:\n",
        "            c+=1\n",
        "    if(c==1):\n",
        "        print(i,end=' ')    \n",
        "        psum+=i\n",
        "\n",
        "print(\"\") \n",
        "print(\"Sum of sum number : \",psum)"
      ],
      "execution_count": 11,
      "outputs": [
        {
          "output_type": "stream",
          "text": [
            "enter Limit for sum of primes : 40\n",
            "2 3 5 7 11 13 17 19 23 29 31 37 \n",
            "Sum of sum number :  197\n"
          ],
          "name": "stdout"
        }
      ]
    },
    {
      "cell_type": "code",
      "metadata": {
        "colab": {
          "base_uri": "https://localhost:8080/"
        },
        "id": "i0ky0vPH4_PA",
        "outputId": "be7900bf-386e-4a9a-d6ea-f9d463c63002"
      },
      "source": [
        "\"\"\"\n",
        "Each new term in the Fibonacci sequence is \n",
        "generated by adding the previous two tems. By starting with l and 2, the first 10 terms will be: \n",
        "1,2,3,5, 8, 13, 21, 34, 55, 89,..\n",
        "\"\"\"\n",
        "\n",
        "n=int(input(\"enter Limit for Fibonacci sequence : \"))\n",
        "\n",
        "a=0\n",
        "b=1\n",
        "c=a+b\n",
        "while c<n:\n",
        "    print(c,end=' ')\n",
        "    a=b\n",
        "    b=c\n",
        "    c=a+b"
      ],
      "execution_count": 12,
      "outputs": [
        {
          "output_type": "stream",
          "text": [
            "enter Limit for Fibonacci sequence : 40\n",
            "1 2 3 5 8 13 21 34 "
          ],
          "name": "stdout"
        }
      ]
    },
    {
      "cell_type": "code",
      "metadata": {
        "colab": {
          "base_uri": "https://localhost:8080/"
        },
        "id": "0E6D8mmG5KIP",
        "outputId": "fd1bfa35-1b17-49d5-9ad6-ba948e307565"
      },
      "source": [
        "\"\"\"\n",
        " By considering the terms in the Fibonacci sequence whose values do not exceed four million, \n",
        "find the sum of the even-valued terms.\n",
        "\"\"\"\n",
        "\n",
        "n=int(input(\"enter Limit for Fibonacci sequence : \"))\n",
        "\n",
        "a=0\n",
        "b=1\n",
        "c=a+b\n",
        "fsum=0\n",
        "while c<n:\n",
        "    a=b\n",
        "    b=c\n",
        "    c=a+b\n",
        "    if c%2==0:\n",
        "        print(c,end=' ')\n",
        "        fsum+=c\n",
        "print(\"\")        \n",
        "print(\"sum of even valued termed fibonacci numbers = \",fsum)"
      ],
      "execution_count": 13,
      "outputs": [
        {
          "output_type": "stream",
          "text": [
            "enter Limit for Fibonacci sequence : 40\n",
            "2 8 34 \n",
            "sum of even valued termed fibonacci numbers =  44\n"
          ],
          "name": "stdout"
        }
      ]
    },
    {
      "cell_type": "code",
      "metadata": {
        "colab": {
          "base_uri": "https://localhost:8080/"
        },
        "id": "cB29tpZm5d0t",
        "outputId": "bdad998d-3867-4f98-a295-f78d8496a9da"
      },
      "source": [
        "#Exercise 5- DS \n",
        "\n",
        "#Write a program to count the numbers of characters in the string and store them in a dictionary data structure \n",
        "text=input(\"enter you name : \")\n",
        "dic={}\n",
        "for ch in text:\n",
        "  keys=dic.keys()\n",
        "\n",
        "  if ch in keys:\n",
        "    dic[ch]=dic[ch]+1\n",
        "  else:\n",
        "    dic[ch]=1\n",
        "print(\"Dictionary is : \",dic)"
      ],
      "execution_count": 14,
      "outputs": [
        {
          "output_type": "stream",
          "text": [
            "enter you name : ganesh\n",
            "Dictionary is :  {'g': 1, 'a': 1, 'n': 1, 'e': 1, 's': 1, 'h': 1}\n"
          ],
          "name": "stdout"
        }
      ]
    },
    {
      "cell_type": "code",
      "metadata": {
        "colab": {
          "base_uri": "https://localhost:8080/"
        },
        "id": "a-zE-ln-5qC4",
        "outputId": "fdda0565-a618-4efb-bcf4-53e1603fd276"
      },
      "source": [
        "\"\"\"\n",
        " Write a program to use split and join methods in the string and trace a birthday with a \n",
        "dictionary data structure.\n",
        "\"\"\"\n",
        "text={\"ganesh\":\"02-june-2000\",\"pavan\":\"23-may-2001\"}\n",
        "\n",
        "name=input(\"which person Dob you want : \")\n",
        "l=name.split()\n",
        " \n",
        "for i in l:\n",
        "  if i in text.keys():\n",
        "    print(\" \".join([i,\"birthday is \",text[i]]))"
      ],
      "execution_count": 15,
      "outputs": [
        {
          "output_type": "stream",
          "text": [
            "which person Dob you want : ganesh\n",
            "ganesh birthday is  02-june-2000\n"
          ],
          "name": "stdout"
        }
      ]
    },
    {
      "cell_type": "code",
      "metadata": {
        "colab": {
          "base_uri": "https://localhost:8080/"
        },
        "id": "nleftWN659vv",
        "outputId": "e60a8157-7535-4856-e696-81e6934bfaa8"
      },
      "source": [
        "#Exercise-6 DS - Continued\n",
        "\n",
        "#Write a program combine lists that combines these lists into a dictionary. \n",
        "\n",
        "Regno=[\"534\",\"558\",\"546\",\"564\",\"565\",\"530\"]\n",
        "Student_names=[\"pavaneswar\",\"haneef\",\"ganesh\",\"jagadesh\",\"karthik\",\"madhu\"]\n",
        "\n",
        "print(\"Given List are :\")\n",
        "print(\"Student Names: \",Student_names)\n",
        "print(\"Register no Values: \",Regno)\n",
        "\n",
        "dic=dict(zip(Regno,Student_names))\n",
        "print(\"\\n Dictionary: \",dic)"
      ],
      "execution_count": 16,
      "outputs": [
        {
          "output_type": "stream",
          "text": [
            "Given List are :\n",
            "Student Names:  ['pavaneswar', 'haneef', 'ganesh', 'jagadesh', 'karthik', 'madhu']\n",
            "Register no Values:  ['534', '558', '546', '564', '565', '530']\n",
            "\n",
            " Dictionary:  {'534': 'pavaneswar', '558': 'haneef', '546': 'ganesh', '564': 'jagadesh', '565': 'karthik', '530': 'madhu'}\n"
          ],
          "name": "stdout"
        }
      ]
    },
    {
      "cell_type": "code",
      "metadata": {
        "id": "acVfeSGT6NcI"
      },
      "source": [
        " #Write a program to count frequency of characters in a given file. Can you use character frequency \n",
        "#to tell whether the given file is a Python program file, C program file or a text file?\n",
        "\n",
        "filetype=['.py','.c','.txt']\n",
        "fn=input(\"enter the file name : \")\n",
        "f=open(fn,'r')\n",
        "count=dict()\n",
        "\n",
        "print(\"Given file is \",end=\"\")\n",
        "for ft in filetype:\n",
        "  if (ft in fn):\n",
        "    if(ft=='.py'):\n",
        "      print(\"python file\")\n",
        "    elif(ft=='.c'):\n",
        "      print(\"c file\")\n",
        "    elif(ft=='.txt'):\n",
        "      print(\"Text file\")    \n",
        "for line in f:\n",
        "  for ch in line:\n",
        "    if ch in count:\n",
        "      count[ch]=count[ch]+1\n",
        "    else:\n",
        "      count[ch]=1\n",
        "\n",
        "print(count)\n",
        "f.close()"
      ],
      "execution_count": 18,
      "outputs": []
    },
    {
      "cell_type": "markdown",
      "metadata": {
        "id": "ps9Kw7F76z0X"
      },
      "source": [
        "output:\n",
        "\n",
        "enter the file name:data.txt Given file is Text file {'g':1,'a':2,'n':3,'e':4,'s':5,'h':6}"
      ]
    },
    {
      "cell_type": "code",
      "metadata": {
        "id": "-w9Lxlmc7Zbg"
      },
      "source": [
        "#Exercise 7 Files\n",
        "                             \n",
        "#Write a program to print each line of a file in reverse order.\n",
        "\n",
        "file=open(\"code.txt\",\"r\")\n",
        "if file:\n",
        "  st=file.read()\n",
        "  print(\"File content is: \\n\",st)\n",
        "file.close()\n",
        "\n",
        "print()\n",
        "lines=st.split(\"\\n\")\n",
        "\n",
        "for ln in lines:\n",
        "  i=len(ln)-1\n",
        "  while(i>=0):\n",
        "    print(ln[i],end=\"\")\n",
        "    i=i-1\n",
        "  print()"
      ],
      "execution_count": null,
      "outputs": []
    },
    {
      "cell_type": "markdown",
      "metadata": {
        "id": "d-RWLc_m7hjd"
      },
      "source": [
        "output: File content is: welcome to python programming...! psai ganesh Swanandhra college of engineering and technology\n",
        "\n",
        "!..gnimmargorp nothyp ot emocleW rawsenavap ygolonhcet dna gnirreenigne fo egelloc arhdnanraws"
      ]
    },
    {
      "cell_type": "code",
      "metadata": {
        "id": "ol0cs3gQ7zt4"
      },
      "source": [
        "#Write a program to compute the number of characters, words and lines in a file.\n",
        " \n",
        "no_char=no_words=no_lines=0\n",
        "file=open(\"abc.txt\",\"r\")\n",
        "\n",
        "print(\"File Content : \\n\")\n",
        "for line in file:\n",
        "  ln=line.split(\"\\n\")\n",
        "  print(ln)\n",
        "  words=ln.split()\n",
        "  no_lines+=1\n",
        "  no_words+=len(words)\n",
        "  no_char+=len(line)\n",
        "\n",
        "file.close()\n",
        "print(\"\\n No of Lines : \",no_lines,\" Words:\",no_words,\" Characters:\",no_char)"
      ],
      "execution_count": null,
      "outputs": []
    },
    {
      "cell_type": "markdown",
      "metadata": {
        "id": "JDqNCYHR71JB"
      },
      "source": [
        "output:\n",
        "\n",
        "File content:\n",
        "\n",
        "welcome to python programming...! saiganesh cse-shift\n",
        "\n",
        "no of lines:3 words:7 characters:52"
      ]
    },
    {
      "cell_type": "code",
      "metadata": {
        "colab": {
          "base_uri": "https://localhost:8080/"
        },
        "id": "w3zmdmFT8pBb",
        "outputId": "00728bbe-cade-4fd8-8fbe-9325592a349c"
      },
      "source": [
        "#Exercise-8 Functions\n",
        "\"\"\"\n",
        "Write a function ball collide that takes two balls as parameters and computes if they arecolliding. \n",
        "Your function should return a Boolean representing whether or not the balls are colliding. Hint: \n",
        "Represent a ball on a plane as a tuple of (x, y, r), r being the radius \n",
        "If (distance between two balls centres)= (sum of their radii) then (they are \n",
        "colliding) \n",
        "\"\"\"\n",
        "import math\n",
        "\n",
        "def collide(ball1,ball2):\n",
        "   x1,y1,r1=ball1\n",
        "   x2,y2,r2=ball2\n",
        "\n",
        "   print(\"Ball-1: \",ball1)\n",
        "   print(\"Ball-2: \",ball2)\n",
        "\n",
        "   d=math.sqrt((x2-x1)**2+(y2-y1)**2)\n",
        "   print(\"Centroid Distance of two balls: \",d)\n",
        "   print(\"sum of radius ball-1 and ball-2 is {}+{}={}\".format(r1,r2,r1+r2))\n",
        "\n",
        "   if(d<=r1+r2):\n",
        "     return True\n",
        "   else:\n",
        "     return False\n",
        "\n",
        "b1=(-2,-4,3)\n",
        "b2=(4,6,3)\n",
        "if collide(b1,b2):\n",
        "  print(\"BAll are Colliode...!\")\n",
        "else:\n",
        "  print(\"BAll are not Collide...!\")"
      ],
      "execution_count": 20,
      "outputs": [
        {
          "output_type": "stream",
          "text": [
            "Ball-1:  (-2, -4, 3)\n",
            "Ball-2:  (4, 6, 3)\n",
            "Centroid Distance of two balls:  11.661903789690601\n",
            "sum of radius ball-1 and ball-2 is 3+3=6\n",
            "BAll are not Collide...!\n"
          ],
          "name": "stdout"
        }
      ]
    },
    {
      "cell_type": "code",
      "metadata": {
        "colab": {
          "base_uri": "https://localhost:8080/"
        },
        "id": "tfvK-q1n9nA6",
        "outputId": "04f536fa-8b0d-4b09-8451-ec895c56785e"
      },
      "source": [
        "#Find mean, median, mode for the given set of numbers in a list. \n",
        "\n",
        "def mean(n_list):\n",
        "  return sum(n_list)/len(n_list)\n",
        "def median(n_list):\n",
        "  n_list.sort()\n",
        "  n=len(n_list)\n",
        "  mid=n/2\n",
        "  if(n%2==1):\n",
        "     return n_list[int(mid)]\n",
        "  else:\n",
        "     \n",
        "    return (n_list[mid-1]+n_list[mid])/2\n",
        "\n",
        "def mode(n_list):\n",
        "  n_list.sort()\n",
        "  temp=[]\n",
        "  i=0    \n",
        "  while i<len(n_list):\n",
        "    temp.append(n_list.count(n_list[i]))\n",
        "    i+=1\n",
        "\n",
        "  dic=dict(zip(n_list,temp))\n",
        "  mode={k for(k,v) in dic.items() if v==max(temp)}\n",
        "  return mode\n",
        "\n",
        "n_list1=[10,10,20,20,20,30,40,50,30]\n",
        "\n",
        "print(\"Given list is : \",n_list1)\n",
        "print(\"Mean of the given list: \",mean(n_list1))\n",
        "print(\"Median of the given list: \",median(n_list1))\n",
        "print(\"Mode of the given list: \",mode(n_list1))"
      ],
      "execution_count": 21,
      "outputs": [
        {
          "output_type": "stream",
          "text": [
            "Given list is :  [10, 10, 20, 20, 20, 30, 40, 50, 30]\n",
            "Mean of the given list:  25.555555555555557\n",
            "Median of the given list:  20\n",
            "Mode of the given list:  {20}\n"
          ],
          "name": "stdout"
        }
      ]
    },
    {
      "cell_type": "code",
      "metadata": {
        "colab": {
          "base_uri": "https://localhost:8080/"
        },
        "id": "BM3XVani9tGK",
        "outputId": "ce6456d1-12b1-4e8a-d496-b3dee738707b"
      },
      "source": [
        "#Exercise-9 Functions-Continued\n",
        "\"\"\"\n",
        "a) Write a function nealy equal to test whether two strings are nearly equal. Two strings a and bare \n",
        "nearly equal when a can be generated by a single mutation on b.\n",
        "\"\"\"\n",
        "def nearly_equal(str1,str2):\n",
        "  count=0\n",
        "  i=j=0\n",
        "  while(i<len(str1) and j<len(str2)):\n",
        "    if (str1[i]!=str2[j]):\n",
        "      count+=1\n",
        "      if (len(str1)>len(str2)):\n",
        "        i+=1\n",
        "      elif (len(str1)==len(str2)):\n",
        "        pass\n",
        "      else:\n",
        "        i-=1\n",
        "    if(count>1):\n",
        "      return False\n",
        "    i+=1\n",
        "    j+=1\n",
        "  if (count<2):\n",
        "    return True\n",
        "\n",
        "s=input(\"enter string-1:\")\n",
        "s1=input(\"enter string-2:\")\n",
        "blen=nearly_equal(s,s1)\n",
        "if (blen):\n",
        "  print(\"String are nearly equal\")\n",
        "else:\n",
        "    print(\"String are NOT equal\")"
      ],
      "execution_count": 22,
      "outputs": [
        {
          "output_type": "stream",
          "text": [
            "enter string-1:ganesh\n",
            "enter string-2:sai\n",
            "String are NOT equal\n"
          ],
          "name": "stdout"
        }
      ]
    },
    {
      "cell_type": "code",
      "metadata": {
        "colab": {
          "base_uri": "https://localhost:8080/"
        },
        "id": "65c_D5Jg9485",
        "outputId": "66044426-4224-45ca-e553-e35d1e618664"
      },
      "source": [
        "# b) Write a function dup to find all duplicates in the list. \n",
        "\n",
        "def duplicates(n_list):\n",
        "  temp=[]\n",
        "  for i in n_list:\n",
        "    coun=n_list.count(i)\n",
        "    if (coun>1 and (i not in temp)):\n",
        "      temp.append(i)\n",
        "  print(\"Duplicates in the list:\",temp) \n",
        "\n",
        "ls=[10,20,10,5,6,87,5]\n",
        "print(\"Given elements in the list:\",ls)\n",
        "duplicates(ls)"
      ],
      "execution_count": 23,
      "outputs": [
        {
          "output_type": "stream",
          "text": [
            "Given elements in the list: [10, 20, 10, 5, 6, 87, 5]\n",
            "Duplicates in the list: [10, 5]\n"
          ],
          "name": "stdout"
        }
      ]
    },
    {
      "cell_type": "code",
      "metadata": {
        "colab": {
          "base_uri": "https://localhost:8080/"
        },
        "id": "HZX7nq9G-Aal",
        "outputId": "4a6457b0-a3b1-403e-b3d1-5e4b74f647b2"
      },
      "source": [
        "# c) Write a function unique to find all the unique elements of a list.\n",
        "\n",
        "def unique(n_list):\n",
        "  print(\"Unique Elements in the list: \",end=\"\")\n",
        "  for i in n_list:\n",
        "    cnt=n_list.count(i)\n",
        "    if cnt==1:\n",
        "       print(i,end=\" \")\n",
        "  \n",
        "\n",
        "ls=[1,2,3,1,2,3,534,546,558]\n",
        "print(\"Given elements in the list:\",ls)\n",
        "unique(ls)"
      ],
      "execution_count": 24,
      "outputs": [
        {
          "output_type": "stream",
          "text": [
            "Given elements in the list: [1, 2, 3, 1, 2, 3, 534, 546, 558]\n",
            "Unique Elements in the list: 534 546 558 "
          ],
          "name": "stdout"
        }
      ]
    },
    {
      "cell_type": "code",
      "metadata": {
        "colab": {
          "base_uri": "https://localhost:8080/"
        },
        "id": "fPPqxSo2-FJB",
        "outputId": "3537279d-6881-4034-dae6-b03ebd37cb4b"
      },
      "source": [
        "#Exercise-10- Functions - Problem Solving\n",
        "\n",
        "# a) Write a function cumulative product to compute cumulative product of a list of numbers.\n",
        "\n",
        "def c_product(n_list):\n",
        "  pro=1\n",
        "  temp=[]\n",
        "  for i in n_list:\n",
        "    pro*=i\n",
        "    temp.append(pro)\n",
        "  return temp  \n",
        "\n",
        "ls=[1,2,4,3,5]\n",
        "print(\"Given list is: \",ls)\n",
        "print(\"Cumulative Producet list is: \",c_product(ls))"
      ],
      "execution_count": 25,
      "outputs": [
        {
          "output_type": "stream",
          "text": [
            "Given list is:  [1, 2, 4, 3, 5]\n",
            "Cumulative Producet list is:  [1, 2, 8, 24, 120]\n"
          ],
          "name": "stdout"
        }
      ]
    },
    {
      "cell_type": "code",
      "metadata": {
        "colab": {
          "base_uri": "https://localhost:8080/"
        },
        "id": "mgkGSVdX-Jni",
        "outputId": "bacd42fd-7ab9-4f19-d04c-1f0e79f0d6be"
      },
      "source": [
        "#b) Write a function reverse to reverse a list. Without using the reverse function.\n",
        "def reverse_list(n_list):\n",
        "  i=0\n",
        "  j=len(n_list)-1\n",
        "  while (i<=j):\n",
        "    temp=n_list[i]\n",
        "    n_list[i]=n_list[j]\n",
        "    n_list[j]=temp\n",
        "    j-=1\n",
        "    i+=1\n",
        "  return n_list\n",
        "\n",
        "ls=[10,20,30,40,50]\n",
        "print(\"Given List is: \",ls)\n",
        "reverse_list(ls)\n",
        "print(\"Reverse of the List is:\",ls)"
      ],
      "execution_count": 26,
      "outputs": [
        {
          "output_type": "stream",
          "text": [
            "Given List is:  [10, 20, 30, 40, 50]\n",
            "Reverse of the List is: [50, 40, 30, 20, 10]\n"
          ],
          "name": "stdout"
        }
      ]
    },
    {
      "cell_type": "code",
      "metadata": {
        "colab": {
          "base_uri": "https://localhost:8080/"
        },
        "id": "jFDEDfkq-OAu",
        "outputId": "a55ffff1-986c-4d66-dceb-a873729fab63"
      },
      "source": [
        "# c) Write function to compute ged, lem of two numbers. Each function shouldn't exceed one line. \n",
        "gcd=lambda a,b: a if b==0 else gcd(a,a%b)\n",
        "lcm=lambda a,b: (a*b)/gcd(a,b)\n",
        "\n",
        "x=2\n",
        "y=4\n",
        "print(\"Given Number: \",x,y)\n",
        "print(\"GCD is: \",gcd(x,y))\n",
        "print(\"LCM is: \",lcm(x,y))"
      ],
      "execution_count": 27,
      "outputs": [
        {
          "output_type": "stream",
          "text": [
            "Given Number:  2 4\n",
            "GCD is:  2\n",
            "LCM is:  4.0\n"
          ],
          "name": "stdout"
        }
      ]
    },
    {
      "cell_type": "code",
      "metadata": {
        "colab": {
          "base_uri": "https://localhost:8080/"
        },
        "id": "rgDaDfpm-T0n",
        "outputId": "4fb9ebd4-e354-443e-dea4-37e9af5923f2"
      },
      "source": [
        "# Exercise 11- Multi-D Lists\n",
        "\n",
        "#a) Write a program that defines a matrix and prints \n",
        "\n",
        "\n",
        "matrix=[[]]\n",
        "\n",
        "r=int(input(\"enter number of rows: \"))\n",
        "c=int(input(\"enter number of column: \"))\n",
        "\n",
        "matrix=[[int(input(\"enter value of [%d,%d] : \"%(j,i))) for i in range(c)] for j in range(r)]\n",
        "\n",
        "print(\"Given Matrix is :\")\n",
        "for i in range(r):\n",
        "    for j in range(c):\n",
        "        print(matrix[i][j],end='\\t')\n",
        "    print()"
      ],
      "execution_count": 28,
      "outputs": [
        {
          "output_type": "stream",
          "text": [
            "enter number of rows: 3\n",
            "enter number of column: 2\n",
            "enter value of [0,0] : 1\n",
            "enter value of [0,1] : 2\n",
            "enter value of [1,0] : 3\n",
            "enter value of [1,1] : 4\n",
            "enter value of [2,0] : 5\n",
            "enter value of [2,1] : 6\n",
            "Given Matrix is :\n",
            "1\t2\t\n",
            "3\t4\t\n",
            "5\t6\t\n"
          ],
          "name": "stdout"
        }
      ]
    },
    {
      "cell_type": "code",
      "metadata": {
        "colab": {
          "base_uri": "https://localhost:8080/"
        },
        "id": "tgRzTKEK-dva",
        "outputId": "2c49920c-8d05-488c-8e81-d3b644a063e6"
      },
      "source": [
        "#b) Write a program to perform addition of two square matrices\n",
        "\n",
        "matrix1=[[]]\n",
        "matrix2=[[]]\n",
        "\n",
        "def readmartix(r,c):\n",
        "   return [[int(input(\"enter value of [%d,%d] : \"%(j,i))) for i in range(c)] for j in range(r)]\n",
        "    \n",
        "    \n",
        "\n",
        "r=int(input(\"Enter no of Rows: \"))\n",
        "c=int(input(\"Enter no of Columns: \"))\n",
        "\n",
        "if r==c:\n",
        "    print(\"enter First matrix elements :- \")\n",
        "    matrix1=readmartix(r,c)\n",
        "    print(\"enter  Second matrix elements :- \")\n",
        "    matrix2=readmartix(r,c)\n",
        "\n",
        "    print(\"Addition of the Matrix..\")\n",
        "    print([[matrix1[i][j]+matrix2[i][j] for j in range(c)] for i in range(r)])"
      ],
      "execution_count": 29,
      "outputs": [
        {
          "output_type": "stream",
          "text": [
            "Enter no of Rows: 2\n",
            "Enter no of Columns: 2\n",
            "enter First matrix elements :- \n",
            "enter value of [0,0] : 1\n",
            "enter value of [0,1] : 2\n",
            "enter value of [1,0] : 3\n",
            "enter value of [1,1] : 4\n",
            "enter  Second matrix elements :- \n",
            "enter value of [0,0] : 1\n",
            "enter value of [0,1] : 2\n",
            "enter value of [1,0] : 3\n",
            "enter value of [1,1] : 4\n",
            "Addition of the Matrix..\n",
            "[[2, 4], [6, 8]]\n"
          ],
          "name": "stdout"
        }
      ]
    },
    {
      "cell_type": "code",
      "metadata": {
        "colab": {
          "base_uri": "https://localhost:8080/"
        },
        "id": "ht0yhSDp_A4s",
        "outputId": "4a560859-b990-457c-a2ad-b613a4c2fc84"
      },
      "source": [
        "#c) Write a program to perform multiplication of two square matrices\n",
        "\n",
        "matrix1=[[]]\n",
        "matrix2=[[]]\n",
        "result=[[]]\n",
        "def readmartix(r,c):\n",
        "   return [[int(input(\"enter value of [%d,%d] : \"%(j,i))) for i in range(c)] for j in range(r)]\n",
        "    \n",
        "    \n",
        "\n",
        "r=int(input(\"Enter no of Rows: \"))\n",
        "c=int(input(\"Enter no of Columns: \"))\n",
        "\n",
        "if r==c:\n",
        "    print(\"enter First matrix elements :- \")\n",
        "    matrix1=readmartix(r,c)\n",
        "    print(\"enter  Second matrix elements :- \")\n",
        "    matrix2=readmartix(r,c)\n",
        "\n",
        "    result=[[0 for j in range(c)] for i in range(r)]\n",
        "    \n",
        "    for i in range(r):\n",
        "        for j in range(c):\n",
        "            for k in range(c):\n",
        "                result[i][j] += matrix1[i][k] * matrix2[k][j]\n",
        "                 \n",
        "print(\"Mulltiplication matrix..\")\n",
        "print(result)"
      ],
      "execution_count": 31,
      "outputs": [
        {
          "output_type": "stream",
          "text": [
            "Enter no of Rows: 2\n",
            "Enter no of Columns: 2\n",
            "enter First matrix elements :- \n",
            "enter value of [0,0] : 1\n",
            "enter value of [0,1] : 2\n",
            "enter value of [1,0] : 3\n",
            "enter value of [1,1] : 4\n",
            "enter  Second matrix elements :- \n",
            "enter value of [0,0] : 1\n",
            "enter value of [0,1] : 2\n",
            "enter value of [1,0] : 3\n",
            "enter value of [1,1] : 4\n",
            "Mulltiplication matrix..\n",
            "[[7, 10], [15, 22]]\n"
          ],
          "name": "stdout"
        }
      ]
    },
    {
      "cell_type": "code",
      "metadata": {
        "id": "VbQsixc6_ZfO"
      },
      "source": [
        "#Exercise-12\n",
        "# b)Write a script thtat imports request and fetch content from the page.Eg(wiki)\n",
        "import requests\n",
        "\n",
        "s=requests.get('https://www.google.com')\n",
        "\n",
        "print(\"statuscode : \",s.status_code)\n",
        "\n",
        "print(\"header content: \",s.headers['content-type'])\n",
        "\n",
        "print(s.text)"
      ],
      "execution_count": null,
      "outputs": []
    },
    {
      "cell_type": "markdown",
      "metadata": {
        "id": "WiCvv-oJ_gY_"
      },
      "source": [
        "output: \"\"\" statuscode : 200 header content: text/html; charset=ISO-8859-1 <!doctype html>\n",
        "\n",
        "\"\"\""
      ]
    },
    {
      "cell_type": "code",
      "metadata": {
        "colab": {
          "base_uri": "https://localhost:8080/"
        },
        "id": "peNBFs3o_lDR",
        "outputId": "a692d9ed-150a-4a6b-e8e8-dcf2fe8c2cfd"
      },
      "source": [
        "#c) Write a simple script that servers a simple HHTPResponse and simple HTML Page \n",
        "\n",
        "from flask import Flask,render_template\n",
        "app=Flask(__name__)\n",
        "print(app)\n",
        "@app.route(\"/\")\n",
        "\n",
        "def main():\n",
        "  return render_template('login.html')\n",
        "\n",
        "if __name__==\"__main__\":\n",
        "  app.run(host=\"127.0.0.1\",port=2500)"
      ],
      "execution_count": 33,
      "outputs": [
        {
          "output_type": "stream",
          "text": [
            "<Flask '__main__'>\n",
            " * Serving Flask app \"__main__\" (lazy loading)\n",
            " * Environment: production\n",
            "\u001b[31m   WARNING: This is a development server. Do not use it in a production deployment.\u001b[0m\n",
            "\u001b[2m   Use a production WSGI server instead.\u001b[0m\n",
            " * Debug mode: off\n"
          ],
          "name": "stdout"
        },
        {
          "output_type": "stream",
          "text": [
            " * Running on http://127.0.0.1:2500/ (Press CTRL+C to quit)\n"
          ],
          "name": "stderr"
        }
      ]
    },
    {
      "cell_type": "code",
      "metadata": {
        "colab": {
          "base_uri": "https://localhost:8080/"
        },
        "id": "ypghesdr_wQd",
        "outputId": "73e3b777-87f0-463e-c5d0-426a81c45ae7"
      },
      "source": [
        "#Exercise-13 oops\n",
        "#a)Class varibles and instance variable and illustration of the self-variable\n",
        "\n",
        "#Robot\n",
        "\n",
        "class robot:\n",
        "    name=\"Ganesh Reedy\"\n",
        "    version=2.0\n",
        "    speed=\"1THz\"\n",
        "    memory=\"1ZB\"\n",
        "    \n",
        "    def robotspecifications(self):\n",
        "        print(\"Robot Name : \",robo.name)\n",
        "        print(\" Version : \",robo.version)\n",
        "        print(\"Speed : \",robo.speed)\n",
        "        print(\"Memory : \",robo.memory)\n",
        "    def update(up):\n",
        "        up.version=3.0\n",
        "        up.speed=\"2THz\"\n",
        "        up.memory=\"2ZB\"    \n",
        "robo=robot()\n",
        "\n",
        "robo.robotspecifications()\n",
        "\n",
        " \n",
        "c=input(\"want to upgrade the Robot Features to 100% (y/n): \")\n",
        "\n",
        "if c=='y':\n",
        "    robo.update()\n",
        "\n",
        "robo.robotspecifications()"
      ],
      "execution_count": 35,
      "outputs": [
        {
          "output_type": "stream",
          "text": [
            "Robot Name :  Ganesh Reedy\n",
            " Version :  2.0\n",
            "Speed :  1THz\n",
            "Memory :  1ZB\n",
            "want to upgrade the Robot Features to 100% (y/n): yes\n",
            "Robot Name :  Ganesh Reedy\n",
            " Version :  2.0\n",
            "Speed :  1THz\n",
            "Memory :  1ZB\n"
          ],
          "name": "stdout"
        }
      ]
    },
    {
      "cell_type": "code",
      "metadata": {
        "colab": {
          "base_uri": "https://localhost:8080/"
        },
        "id": "YTWU-TgPAaI9",
        "outputId": "6afb6a9a-a734-4a3d-f41f-e04e1bf48be1"
      },
      "source": [
        "#b)ATM Macine\n",
        "\n",
        "class Bank_of_Swarnandhra_ATM:\n",
        "    def __init__(self):\n",
        "        self.balance=0\n",
        "        \n",
        "    def balance_enquiry(self):\n",
        "        print(\"Balance in yoour Account = \",self.balance)  \n",
        "    \n",
        "    def deposit(self):\n",
        "        amount=int(input(\"enter Amount : \"))\n",
        "        self.balance+=amount \n",
        "        print(\"Amount is successfully Deposited....\")  \n",
        "    \n",
        "    def withdraw(self):\n",
        "        amount=int(input(\"enter Amount : \"))\n",
        "        if amount<=self.balance:\n",
        "            print(\"*****Thank You take Money*****\")\n",
        "            self.balance-=amount   \n",
        "        else:\n",
        "            print(\"Sorry insufficient Balance\")        \n",
        "    \n",
        "    def exit(self):\n",
        "        print(\"Thank you\")\n",
        "bank=Bank_of_Swarnandhra_ATM()\n",
        "\n",
        "while(True):\n",
        "    print(\"1.Balance Enquiry\")\n",
        "    print(\"2.Deposit\")\n",
        "    print(\"3.withdraw\")\n",
        "    print(\"4.exit\")\n",
        "    c=int(input(\"enter your option:\"))\n",
        "    if c==1:\n",
        "        bank.balance_enquiry()\n",
        "    elif c==2:\n",
        "        bank.deposit()\n",
        "    elif c==3:\n",
        "        bank.withdraw()\n",
        "    elif c==4:\n",
        "        break    \n",
        "    else:\n",
        "        print(\"invald option\")\n",
        "        pass"
      ],
      "execution_count": 36,
      "outputs": [
        {
          "output_type": "stream",
          "text": [
            "1.Balance Enquiry\n",
            "2.Deposit\n",
            "3.withdraw\n",
            "4.exit\n",
            "enter your option:1\n",
            "Balance in yoour Account =  0\n",
            "1.Balance Enquiry\n",
            "2.Deposit\n",
            "3.withdraw\n",
            "4.exit\n",
            "enter your option:2\n",
            "enter Amount : 1000\n",
            "Amount is successfully Deposited....\n",
            "1.Balance Enquiry\n",
            "2.Deposit\n",
            "3.withdraw\n",
            "4.exit\n",
            "enter your option:3\n",
            "enter Amount : 2000\n",
            "Sorry insufficient Balance\n",
            "1.Balance Enquiry\n",
            "2.Deposit\n",
            "3.withdraw\n",
            "4.exit\n",
            "enter your option:4\n"
          ],
          "name": "stdout"
        }
      ]
    },
    {
      "cell_type": "code",
      "metadata": {
        "id": "yuXfz9ulBBi2"
      },
      "source": [
        "#Exercise-14 GUI,Graphics\n",
        "\n",
        "#write a GUI for an Expression Calculater using tk\n",
        "\n",
        "from tkinter import *\n",
        "\n",
        "win = Tk() \n",
        "win.geometry(\"312x324\")   \n",
        "win.resizable(0, 0)   \n",
        "win.title(\"Calculator\")\n",
        "\n",
        " \n",
        "\n",
        "def btn_click(item):    \n",
        "    global expression\n",
        "    expression = expression + str(item)\n",
        "    input_text.set(expression)\n",
        "\n",
        " \n",
        "def bt_clear(): \n",
        "    global expression \n",
        "    expression = \"\" \n",
        "    input_text.set(\"\")\n",
        " \n",
        " \n",
        "def bt_equal():\n",
        "    global expression\n",
        "    result = str(eval(expression))  \n",
        "    input_text.set(result)\n",
        "    expression = \"\"\n",
        " \n",
        "expression = \"\"\n",
        " \n",
        " \n",
        " \n",
        "input_text = StringVar()\n",
        " \n",
        " \n",
        "input_frame = Frame(win, width=312, height=50, bd=0, highlightbackground=\"black\", highlightcolor=\"black\", highlightthickness=2)\n",
        " \n",
        "input_frame.pack(side=TOP)\n",
        "  \n",
        " \n",
        "input_field = Entry(input_frame, font=('arial', 18, 'bold'), textvariable=input_text, width=50, bg=\"#eee\", bd=0, justify=RIGHT)\n",
        " \n",
        "input_field.grid(row=0, column=0)\n",
        " \n",
        "input_field.pack(ipady=10)  \n",
        " \n",
        "btns_frame = Frame(win, width=312, height=272.5, bg=\"grey\")\n",
        " \n",
        "btns_frame.pack()\n",
        " \n",
        " \n",
        " \n",
        "clear = Button(btns_frame, text = \"C\", fg = \"black\", width = 32, height = 3, bd = 0, bg = \"#eee\", cursor = \"hand2\", command = lambda: bt_clear()).grid(row = 0, column = 0, columnspan = 3, padx = 1, pady = 1)\n",
        " \n",
        "divide = Button(btns_frame, text = \"/\", fg = \"black\", width = 10, height = 3, bd = 0, bg = \"#eee\", cursor = \"hand2\", command = lambda: btn_click(\"/\")).grid(row = 0, column = 3, padx = 1, pady = 1)\n",
        " \n",
        " \n",
        "seven = Button(btns_frame, text = \"7\", fg = \"black\", width = 10, height = 3, bd = 0, bg = \"#fff\", cursor = \"hand2\", command = lambda: btn_click(7)).grid(row = 1, column = 0, padx = 1, pady = 1)\n",
        " \n",
        "eight = Button(btns_frame, text = \"8\", fg = \"black\", width = 10, height = 3, bd = 0, bg = \"#fff\", cursor = \"hand2\", command = lambda: btn_click(8)).grid(row = 1, column = 1, padx = 1, pady = 1)\n",
        " \n",
        "nine = Button(btns_frame, text = \"9\", fg = \"black\", width = 10, height = 3, bd = 0, bg = \"#fff\", cursor = \"hand2\", command = lambda: btn_click(9)).grid(row = 1, column = 2, padx = 1, pady = 1)\n",
        " \n",
        "multiply = Button(btns_frame, text = \"*\", fg = \"black\", width = 10, height = 3, bd = 0, bg = \"#eee\", cursor = \"hand2\", command = lambda: btn_click(\"*\")).grid(row = 1, column = 3, padx = 1, pady = 1)\n",
        " \n",
        " \n",
        " \n",
        "four = Button(btns_frame, text = \"4\", fg = \"black\", width = 10, height = 3, bd = 0, bg = \"#fff\", cursor = \"hand2\", command = lambda: btn_click(4)).grid(row = 2, column = 0, padx = 1, pady = 1)\n",
        " \n",
        "five = Button(btns_frame, text = \"5\", fg = \"black\", width = 10, height = 3, bd = 0, bg = \"#fff\", cursor = \"hand2\", command = lambda: btn_click(5)).grid(row = 2, column = 1, padx = 1, pady = 1)\n",
        " \n",
        "six = Button(btns_frame, text = \"6\", fg = \"black\", width = 10, height = 3, bd = 0, bg = \"#fff\", cursor = \"hand2\", command = lambda: btn_click(6)).grid(row = 2, column = 2, padx = 1, pady = 1)\n",
        " \n",
        "minus = Button(btns_frame, text = \"-\", fg = \"black\", width = 10, height = 3, bd = 0, bg = \"#eee\", cursor = \"hand2\", command = lambda: btn_click(\"-\")).grid(row = 2, column = 3, padx = 1, pady = 1)\n",
        "  \n",
        " \n",
        "one = Button(btns_frame, text = \"1\", fg = \"black\", width = 10, height = 3, bd = 0, bg = \"#fff\", cursor = \"hand2\", command = lambda: btn_click(1)).grid(row = 3, column = 0, padx = 1, pady = 1)\n",
        " \n",
        "two = Button(btns_frame, text = \"2\", fg = \"black\", width = 10, height = 3, bd = 0, bg = \"#fff\", cursor = \"hand2\", command = lambda: btn_click(2)).grid(row = 3, column = 1, padx = 1, pady = 1)\n",
        " \n",
        "three = Button(btns_frame, text = \"3\", fg = \"black\", width = 10, height = 3, bd = 0, bg = \"#fff\", cursor = \"hand2\", command = lambda: btn_click(3)).grid(row = 3, column = 2, padx = 1, pady = 1)\n",
        " \n",
        "plus = Button(btns_frame, text = \"+\", fg = \"black\", width = 10, height = 3, bd = 0, bg = \"#eee\", cursor = \"hand2\", command = lambda: btn_click(\"+\")).grid(row = 3, column = 3, padx = 1, pady = 1)\n",
        " \n",
        " \n",
        " \n",
        "zero = Button(btns_frame, text = \"0\", fg = \"black\", width = 21, height = 3, bd = 0, bg = \"#fff\", cursor = \"hand2\", command = lambda: btn_click(0)).grid(row = 4, column = 0, columnspan = 2, padx = 1, pady = 1)\n",
        " \n",
        "point = Button(btns_frame, text = \".\", fg = \"black\", width = 10, height = 3, bd = 0, bg = \"#eee\", cursor = \"hand2\", command = lambda: btn_click(\".\")).grid(row = 4, column = 2, padx = 1, pady = 1)\n",
        " \n",
        "equals = Button(btns_frame, text = \"=\", fg = \"black\", width = 10, height = 3, bd = 0, bg = \"#eee\", cursor = \"hand2\", command = lambda: bt_equal()).grid(row = 4, column = 3, padx = 1, pady = 1)\n",
        " \n",
        "win.mainloop()"
      ],
      "execution_count": null,
      "outputs": []
    },
    {
      "cell_type": "markdown",
      "metadata": {
        "id": "DNQ4eQ3SCxQA"
      },
      "source": [
        "code:![p1.PNG](data:image/png;base64,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)"
      ]
    },
    {
      "cell_type": "code",
      "metadata": {
        "id": "p8d-FL0GC7vH"
      },
      "source": [
        "#2)Write a program to implement the following figures using turtle\n",
        " #a)\n",
        " import turtle\n",
        "\n",
        "turtle.pensize(3)\n",
        "turtle.speed(20)\n",
        "turtle.bgcolor(\"black\")\n",
        "\n",
        " \n",
        "for i in range(5):\n",
        "    for col in [\"blue\",\"red\",\"yellow\"] :\n",
        "     turtle.color(col)   \n",
        "     turtle.circle(55)\n",
        "     turtle.left(30)\n",
        "turtle.done()"
      ],
      "execution_count": null,
      "outputs": []
    },
    {
      "cell_type": "markdown",
      "metadata": {
        "id": "SNuDts6LDLmS"
      },
      "source": [
        "![p2.PNG](data:image/png;base64,iVBORw0KGgoAAAANSUhEUgAAAQsAAAD2CAYAAADBLqIhAAAAAXNSR0IArs4c6QAAAARnQU1BAACxjwv8YQUAAAAJcEhZcwAADsMAAA7DAcdvqGQAAEDCSURBVHhe7Z0HmFRVtv1PN1mCRIkNNKHJ0E0OHWhSE5ukomSQHEVEyRlUECXnnKHJOZkds46OOjqOozM6ecYJvklv3pu3/mvdS9HV3VVY8x/QRnd934+uurmoe9bde5999nHV6zdGzYQWqFq9OipXrvwfU7t2LcTGxoZc9+9QpWosatSMQ60a//mxDMP4z3FN+k9B4tj5aJDSEVWrVbu2onb9BPTs1Qu9+/RFh7aJqFs7LsuOWahShds3RqP6tRGfEI/qQccJpiYbf0rbjkjv0C7k+mCqVKmKeg0T0DmtA+JMMAzjG8e1m7EG7WdvQOuRM1GvTfK1FWk9+iIlsQ2aNWuGvr36onuXdDRs0hzx/JyakoiePXugW9fOaNcujQ26Ezp3uRP9endG185pSExKQYeOndClUwd07NABXbv1QMeOHdGiWQJatWyNIXf29c5Rr1ELdOuShl4UpbTOXdA4IQEJTZuifsMGiOH66hSX1jxWt07tERMTYxjGTSbQ/kPhUh9eg45zNyJp4kLUT0y5tkPvfoOR0KCe51Kkp/fB4AH3oU1qZyR36oyhQ/pj7KjhGDRoIAWjBwYNHoQu3e5E765tcU/fO3F3v/5on5qKHt27Ydjggejb+06kplJU2iWiVlwcBvXt652nSatOuCu9C/rc3Q99+/ZGbwpQ186d0IjnjYmRJVILKakd0CG5zbUvYxjG10cWsWg2ZDqSJy1Agw49EFur1tWNKqNZ67bo2D4VySntMKh/P9zZpx860rpI69oVfXqnY2D/ezyroA2f/AMGD0ar1ino3ol06YJOaV3Qtm1bpHWiy9G1C1JaJVIAmqB9UmvUrFEDvbhNXJ36aJ3SBXf17IrutCxatmyJfv3uRrfOHVAjtgovrirq1o9HWwpFjWpVr15XLBrWr4eGDeO5rgGqV69+dblhGDeLa2JRI6EV6rRph9i4gFBcpXIVNG3eAslt26FHty5o3aolmjRrjsaN4xFPN6F5i5Zo0bwpGiY0oWvRAtWq10DL5k0Q36ghatWui6ZNm6FJQjwa1K1Da6IWqlergXp1aqNqlSoUjgaoVa8BWiZSTLp1QptWzdGgQUO6Ml14jKb+BXK7WIpBplAIikW9eoiPj0fD+ARUp/BkrvvPqVSpkvEdJNS9YGTFE4vsC0P9Z94satVNQIN6EhDFLxqjaZMExNWoFnJbwzC+PrLrgrgmFsEbBcyOW4HA9RvGrUSoezk3ELi+UKLhi0WlGMTGVkOjRo2QlJSElJQUwzC+gyQnJ6N58+aoVatWDsFwVSpXQfXYGujRtRcuXbqEv/71r7CXvez13Xz985//xAcffIA5c+Z4PaHBguH6JvXFPV3vxbmMi/jXv/51dRd72cte39XX//3f/+Htt99G7969r4mFcG0atEH/7n1x8cKlq5v6LwnHq9//ITbuPYWf/fzXV5fay172+i68PvnkE4wbNw4VK1bMFIuqdEM6tmvvuSCB1/+RT376GWZvOIs5qw7jk89+5S3/7a9/jheeuYA33nobf/3nv/DfNFl+9vnn+OCH73lqFOr1j7/9BW++9iLOXryEL/78X1eX+q9f/OpX+PDDd/G3v//t6hLgD7/7Dd5+81W88fY7+NN//ffVpVlfn/z4h/jLX/6CL//0B/zXX8xtstd356X7/v3338fly5fx9NNP4+WXX766JrKX3Iwf//jH+P3vf++h93//+9+vrs18ffrpp5g4cWJWsdA/SqDKIhZs+MfOP4eek9Zh68Fz+OIPf/KWf/rJhzh9fD+OZ+zHqWdfxWXus2X7Fhw+tB9HDx7Ba6++hqeevYwXn30aZ06fxjMvv4Nf//5LXtAPcfrcOfzo1Zfw8199gvOHD+PCc29gw859uHLlDK6cO4rtO3bhw49/ig/ffRcvvfQ9vPf9V/C9py7imVffw/mTh3HxhTdw+OB2nDx9HqczduMIj/H8s1fw0ovP44XnnsILz7+AS+efwj/+17tUe9kr175+85vf4L333sNbb72Fn/zkJ/jHP/5xdc1Xv9TA33jjDfzyl7/EL37xC080/p2X2vaXX36Jc2yPZ8+e9Y73v/+bs9FILCZNmvTVYvEvHnDjtt0YOnUZ3nn/I0+N9Prkk4/w8kvP4scfUtkunEfG2aewZ99eZBzJwDNHM3DkxGlcoeVxbM9uisZzuPjsm7RKfo+f/uxjXLh8Ee8+ewFPXzmLnWvW4bWPv8DW3ftx4fxx7N+6gSJwDp/9/Jf48Adv4+mnLuDZ80dx4dghvPTO+9i6eQf2HT+HDeuW4eChIzh9bD/Onz6Bc6eP4djhg3ju2afw9KXzOLj3IP70j9AWjr3slVtesg5++9vf4le0rP/whz+EbKzhXhKa119/HV988QV+97vf4cKFC1fXRPZSeEH7njhxAsePH/eu4X/+53+urs18RSwWUp9nn3sOR46fwR/+6FsVen355Z/5+Qt8+cff4b03X8Q7P/oZfvLxR/iEB/7dZz/FTz79Gd2Xn+CzTz/Gb/hFfvHrL/DnP/8NX/7Xn/H5zz/HH3/zc3z04Qf48L338UdaPj/66Mf4/LNP8dNPfozP6M787e//wJ//9Ef8jJ8//fhH/PsT/O6Pf8Y7FIwf/eRTnD51GO//8EN8/rNP8fPPfub9/dmnn3h89tNP8fGPP8bf/9fEwl7f3pd6Kz/66CPPKlEQUn//nZeESVbJZ599hs/Z5kTAGAh+RSwWev3pT3/yTJRQqqM4xK9+9Qv85Wu0+SVgv/r1L/8tFbaXvb5tL7UDCYYa/K9//Ws+jP98dU1kL+0f7Pbofahe0H9LLOxlL3t9d19hxUKZW+fPn/esCMMwjI8//hjjx4/PKRZK8T5w4IDXt/ruu+8ahvEdRjGRV155BaNGjcopFomJidi8eTNWr16NQYMGGYbxHUap3keOHMGIESNCi8XKlSsxZMgQOOcMw/gO06JFC6xfv97EwjCM62NiYRhGRIQVi8px1U0sDMO4RlixqNm+uYmFYRjXCC8WnRORnNYFa/btM7EwDCO8WNTu3RGpfe/EuuNHTSwMw7iOWHRPRdvuXbB6+zYTC8MwwotFldpxSEpNsZiFYRgeYcVCHyzAaRhGgOxiERAMV6lKZRMLwzCuEVYsqsbXMbEwDOMaYcWiZuc2SExOwcp160wsDMO4nlgkIaVHL6w7dsTEwjCM8GJR997uSL3L8iwMw/AJKxY1EpshpVM7rFy92sTCMIzwYuH1hiQlWYDTMAyPsGKhN9YbYhhGABMLwzAiIqxYVG/ZyMTCMIxrhBWLuM5tkJTaDqs2bzGxMAwjvFjU6JSIlG7pWJtxyMTCMIzwYlErvT3a9uqJtQf3m1gYhhFeLGomt0BKlw5YuWatiYVhGOHFQm8swGkYRgATC8MwIsLEwjCMiDCxMAwjIkwsDMOICBMLwzAiIlgsKlSokFUs2rRpY2JhGIaHiYVhGBFhYmEYRkSYWBiGEREmFoZhREQosRAmFoZhZMHEwjCMiDCxMAwjIkwsDMOICBMLwzAiwsTCMIyIMLEwDCMiwopFk5QUEwvDMK4RViyatUs1sTAM4xphxaJFWpqJhWEY1wgrFh0HDkWHtA4mFoZheIQVi6ZtO6Bdx/YmFoZheIQVC/1jbohhGAFMLAzDiIiwYlG7Wi20T0k1sTAMwyOsWAxI7Yd7u6RTLFaZWBiGEV4s+rXpgi7tu2Dd2k0mFoZhhBeLXi26oF+P4Tix97iJhWEY4cUisW480tr3xt7tGSYWhmGEF4sqlWKQlJiM1avWmFgYhhFeLPSPdZ0ahhHAxMIwjIgwsTAMIyLCi0VMDJI6dMCazRtNLAzD+AqxSEvD6k0mFoZhmBtiGEaEmFgYhhERJhaGYUSEiYVhGBFhYmEYRkSYWBiGERFhxaJCpUpensXqjRtMLAzDyCEWAcGgWMQgqVMnrN5kYmEYxvXEokJFJCYlYeVqq5RlGMZ1xaKCxSwMw7iGiYVhGBFhYmGEIA8pSuqRLuRuck82tKwDqU4KE+0T6ljGtwUTC+MqhUg1kkaGkofIcvIkWUwWZeMRsoIsIQ+SQaQdiSHRJNQ5jFuZ8GLBfxKTk7FqjZXV+7YRRYqQciSO1POoihpuPEq7NbjdrUcxCkU+N5LbSwDiiIQkmHqIiuqE/PnH4/bbH0eJEhtRvvwaFC8+j8sao3r1QqhRw6FMGYeCBR2io0Nfi3HrEF4s1HXqDVG3rtNbHYlDYVKTNCNtSX8ynhbAYlcKj7gKeJSNf4HrhBEuEQPcHVyfB925TUNSkuQhgePlz+9QtqxDQoJDjx4Ogwblx+DBVTBlSgekpKxFsWJrMWZMChYuLI6RI6PRp49DaqpD48YOlSs7FCqU9fqMW4OAWNx3333ZxaISElNTsWrDOhOLWxSJRAFSmaSTVeQouUgOunx40sViKF2Obm4CerjqGM3lq6+ynjxF9pHhpBGpnMchtpxDm9YO99/vsH+/w7lzDhs28NirHB55JIqua3HkyzcJders5E3VDytWlMWJE9G4fNnh8GGHxYsd2rd3uOMOh7x5Q1+3kTsJLxZ8o5jFk08+aWJxC5KXyCJoRVaQS2QMSSRlXBTyu1oUE8UjthIFKvNd21dEE+0/lOylC/FSMQpHKYdTDzi8cNph03rfqihZkqIUlfXcfsxCQdATXDeSlkRZWhTRaNfOYfZshzNnHGbNogA1ojtUJNT+Rm7ExOJbSD4il2Mm+R55hFQn/vooUoqsJgpg1iFZ9w9GsYaKtCb2T3V4rYvDD+s6zOfnilwuQQm1TyZNyV4ynuicUV78olkzWi+rHd56y9FNcXRbTDBuBUwsvoXEky1kD5H7IHckc726ObeQJ0iNq8tCowZcoYJDRobDtq0ODeo7dKUrksF1S0jFoG3D05jsJpOIelz85QUK6Oajq/OU3BeHEiWy72fkNsKKRdWqVdG2bVv6opbufStRnzxB1JjV2yF3JOs29xM13tokfG6EGrNiC6++6rBwoUNMjB9jyM91OofiGnuJAqah9s8kL7mTbCZ9iX9OCVG+fA7ly/uxD51DQdOc+xu5BYnFhg0bMHr0aEgfRGxsrD9EPTEx0SyLW4gG5Ekyi8SQgJug3os6dfIiIaEl4uO30BWQe1Agy77ByFVITnZ46SWHXr38YGQeWhSB9XJzdPwJZDtpToL3z0lRFHf3oKTbhNspHLEu+pq1IzenShVaQlvo3sz3e0ty7m/kBgKWhbpOpQ+iUqVKcNWTEswNuYUIPO2X0py/jxbB9GkOmzY5nD7tcOpUNE6cKIrt21vi6NEa/FyAy6Nw7BgtkCUOQ4c61K3rN1yJQs2a/tN+7FiHokVDxxMkROpleYBsIGWIlksEmpCxRIFV9b6cdlE44UpSXEZSWDZQYGK5zHGZf83TeN7+cXR11voB0GrVcp7P+OYJ64ZU79gKiantsGrrVhOLXE4+NvAlbGAvDnK4uM5h5zb/KT1xokO3bg5duhRGSkofNGmylA+AgvzsL7/nHocpU+i2PMF9djpMneroejo+ORx27PATqq4XeJSL05hsJiNIU/Io2U8WkgdJX9KNdCJxrhVKu3VoRXdEy9Sdq20WkP0UjIuNHN7Z5zDgLofbbgt9TuObI7xYdGiNpK7pWHfkkIlFLiY2lu7AOAoFn8oHVrDxUyAUa1D2ZOnSshSiaDFUZKM/zO0H8W9+z4IQhQs7lCvn6Jr4wvHYY86zNp591heOSHooKpEZ5A2iGIZiJT1JLaKYSUEiK0REuTLcZwL/buHnAp47U57UIF3IorwOL0ymxbHcYXAD/9hZg7PGN0lYsajdqyNS0rtjzZ5dJha5EDX2evX8noT3V/PpPsYhubmf96B1mdsWJCnke6QCCT1uQ0/y7t0dnn/e4fx5Hm+zozWSNVaRnRJEWZ67iRK9XiaxJDjbMysKbiqnI4MobpJ1fRXSo77DU1spfvc6PETxUDp69u2Mb4bwlkWLBKSktcfK1TY2JLehXgTFGOQ+bKG78X4TPpnZ2PUUz7l9WTKLrCLhB3ip96NvX9+y6NTJd08kGElJfoA0+/YSCrkRijmMInIrXiWyJq6ff1GTPEpmBi3LRKngyxY5XJrnsCfGYTqXmWDkDoIDnApsipiYGLjKlSsjOTnZRp3mMtSoZVEsW+Yzv7zDTloS4RuUGuceoqHmodb7KJ9ixgw/bVvWRPHiDg884PdStGqVdTyHhKIHUfr4YHIbkTtxmNxNlGIefOysaOh7P3IiaFlWNI5kA92qRb3pGvG7qXenWrZtjK8fiYW6TkeNGgXpg6hSpUpmdW/rDck9qEtT8YVHH3UUcbocJfgEZmNSAy2WbdtMlKF5jNQKWpaTNm0c1rKByrrQZ8UrJBAPPeRbGEqgkqtSiut6k7VkIClEtL3Or65UxS2KXl0WGlk3SeSpoGVZUUanemkWL+B5+Z0f57K5RN21obY3vh6CLQvpg/C6TuWPtG7d2sQil6A4RFyc36DXr+eT/3Z/JOkrRIlROZOvhFK7G5DTJHy2ppKtBg922LrVz3kIXicX5OGHHbZt43kaOwygCyRBCBYKoWClRqh+TIJzPHIisUgkV4jiKaG28QOsEsWyZfwh9BrYph4WWTGhtjduPsExi/Lly2fGLEwschd62vbv78cUlIegxliXPEvkgvi9BmqISqkuRm4n6n3oRV4hdUlJUoTkJxIS/9jqIp0zx+8NCT5nAAmGcjZWznU4RzFRDkWoRlucvEgUvwgWEv+6lAQmF6Q0UYGd54hEozjRteqatY1/XRrWrphMkya+EKpbVkHU9sR6SL4ZTCxuAeQSNG3quwNDhvjLJBZKxFJyU1Wvl0ENrTJRarUCmguJUqw/JH8mEoxdRGM0WhEJh57seWmxRGEuhSBw7FDEVXd46Titjzv5PkTAUyjAqoDkIlLKa/QaySrxoqnqUomqbx0k75HfkXeIqm0tIPOJtpGY5EeXLtFeT48GnenYEqL7yEkiITLB+PoxsbgFUHeo6kdoQFepUv4yPW37kQMkxmtk6u14jcjlUMOTKIwgE4m6TWVZqPKVBpFJOD4gimUMoViU/0qxSKZgvTDF4fBqChef9qG2UWBTcQu5C6U8gXiAPEMkWM+TNURD17sRBTjvI7pOoVJ9sjZeIEuQkhJPyyIvevb0jy1xULfsa6QPuX4Q1bgZmFjcAqgrU26Akq0CORT5+eR+2JXlk3wMG6YEYg5pQeR6yNW47erftkQNtTzRU14mv96rGO8wcoBisZ5i0Yy/s+8CZOd2cojMLuewe5Uf9NR4kezbqQGr+tZCl8xrOsVla4kK++pc6sKVq6FraEkuEQmYrlPIRdE2ncnjdLUOYNas/rwx5ab4Xb6yKLqSl0hpYtbF14uJRS5HORX33ecHHzVC0/fpi1MshmCmG0/BqMqGGctlvvkeHIvw36uhniRyPYKXazSoGm8cxSKdYtGNv7NcGG3nN84ACjCeJ0l5HEbxWhTbUOGarMcrQrFIpFiMpFik8Zq6clkVb7l/rsB1SSy6E4mFrjf7cbS+LGJjq2D27AYYOXIUP6ur1R98JpFQEFWD5hRUzbq/cTMxscjlaCCXegbkv+fLp0ZclaykG7IfPV0duiF56YYEGmIo5A6oAveEoGXB5KFYFKFYVLr6O+8gCopmCkYvsoaooI5yLpTf0blz8DFU2GYCxeIoxaInxaI0xULWQlbR8SlHJpPHgpblJCUlCitWFELXrh35WbGWqaS4F1g9Qu4i6g0Kta9xczCxyOWo50O1HqZOVbBQVoJK8D+CaNccCS4fznKbqtn2yYqsh/5EY0NCrfe7ZOfOzcvfmT+8F1NQXKM38Ru7ApaquqXEq6pV/cQtVbjy95dFM4DsQ0G6EFNdSW4fRbHIeo5M6pOVRNcUar2PBrvJgmnRQoFYuSYq1jOfglTcG3+iwWeyMkLta9wcTCxyOc2bOyxfnge9ezfk58eJAoG1r3WdXiYqmRfef5epL9fidSL/P6cVUrGiw7x5FISZWicrQXEG1ebsxfPk8eIV9xDFLlQzU5bFzJmydO7gNmr0m0hXFOW5VEVrCAmfmKUYioSrUdCynKSnOzz+uN916lf3ak6eoOsxh8cvgd38HhVC7GfcPEwscjnKN1i2rCoSEh7mZz1dFRT0xaEs0eAtldELP3hLAqCYxgXSg2QtzCuUqTl6tF+lu1QpbS9RkQjsoKnfDS+4gkjidqqSpQCr3KLFi+9AmTLaRj0cPXj+/J5ofUgU4widJFaCqIdmH1GgNdQ2PmPGSCR9S8Zfpm7eJjzPNjSiG/Mc3ZzrW1TGjcbEIpej4OaSJW35w8j9UG9H5joJxjOkMwmVJKX1CgIWoCtSwI1lQzvCRlyJ7/P4DT+wXZRDx44OGzf69Sz8/Ytw/2Eo6Y7hDboWda5uKwYNkmuUjNhYVQfvQwp48QN15Wr6AOVEBLZVgFbjWfLnz4O8eVOQJ88Gfh7Iz1FhR7QqrV2WzqJFfop55roCvKYUFOI1vctrqnHdWI1xozGxyNXcxh+mBJ/ijVGuXGt+zmkVLCXy4QPjJmRhyAVQToLK/isQeI+L5t+yaOAuI84NRW8KgdyKVKLsTzXuWjX8xin3IlDHIopP85JuM16nRVCbnwPnHDDAYcGCjhQL9VTIRfArZW0kU0hxioMGpimRrHdvh3vvVUC0LOrWfRiNG6/GPfeUQr9+fgGehg39DFJliQbOW7++HxdREZ6cc4vkp9Ddix/Q+qnhdQGHLw9o3FhMLHI1TTBsWE8sXVo+bG1KVe9WkLMj0chMjRPRwDIJiMZwqKydKlftYiMb6O6kQGRgk6uNIxQexSKWE40c7VjYYe5QhxMH/carY0dRZEq41rQsCqE+RSHK5WWDzs+bJS8FLBYxMZrW0Beoemzo36dFcHcDhx5d/VyM7dsdjh/X5EL58MgjXSgYazB2bJpXsu/AAX/dunUO48f7lo2G3at7WGNRFK/Q6Nrg7+pfky9Mb9Jaqu6mc5m6Z83C+Dowsci1qAFMQ9++c/kblPee0qG3c1hJVAdTSDiOEaVda4IhBSX97XQ85TCoG3Im3ZYYCk0ejOM6ZYFeYGN/pgUb4Q6H4RQNuQ/aT3OivsSndzvXkU/00nQdqtMCqUo3JNqvz8n16pWYQmvid9z/BAXgyhW/satHo3x5uR8a8aq0btWwUPKVf3wNWrv7bl9Unn6a4rZXvTL8Dmf93pZQdTQUC0kjZykWlb2MTxX2UR5Hzm2NG4uJRa5FAb21aNJkAk3+PEhLy7mNGo5qS8j0V6KSKm23IdfPP1DPyBmiiX9kxkd7mZFyM8YXcngx3eF7Fx2a8Cmv40gMJCbd3DJ+bk2xmIwlS3ph+vQ8ft0L7tOFvHOHw7NL6dq09ecA8TNN1fWq8SrqxVlKwo981TQAd93l8PLL/vQDcl10nOxuiGIwGiK/jccu77Zz2b1EAdms2xk3HhOLXEs82Uyx6OPlWWRNgvKFQkPCZUU8TxRYVPxC9SzVwIO3zYka7XGiMRnq/pTV4Qc8a1Vw2DrT4RcrHB5gg5dlIbHo7p6gWDzBxnuBYjEEM2ZEo3o1h8XDKFR3OqyiWKimZ+Y5dEwlYG0gi4lmXg9enxXFK6pX96uRX7jgl/dbs4YiVjszxV1ILDQ2ZCsp7yWaaVY1FfjJejzjxmNikWu5izyJuLhWXvamKnUH1skSUINRkdypRPkGCmiqyvY8ohL9WY+VHT3xFW/YSx4kGpPhr5N70Jwuz7t0Cz5qzyc4G+ouLp/mhqCcO0jX4QxWr+6MgwcdMuiyfEwhe7qIQzU29kCA0kcipCe/BrVJKEJlc2aimMyhQzzPNN89UfxC+RxyTZQ1GthO40+UkKUq4mVcMpftJxprkvV4xo3HxCLXIv9+HooUifXyGpQDodGnaixyNV4g6jJVT4YsAgUZZVVoNjKN+lTx29DHDSA/XxmhevIrAasT8Xs2br/dYehgh0/pEjxXn4JAV+B7rjES3Mvo2+cAXnyxIT56x+HNOQ5XytAtoEj4eR6yJnQMjTHR4LZ5REIRPqYggdFsZxpRqzJ+lSrxWHRv5H7INRk1yp+mQMlZspg0WbNGnqqs321eAWKdR/kjFre42ZhY5Fr0VB5CE7wgOnTwq2N1SPVjC6qmrThFIKYQ2EeuidarJ0QuSaikJQmOpg/QTGNTpuTHli1xmDnzfjRqlEGR2ID69dugf/+8mDCB59nl8HMKxn8Pdfjr7YUwPP9WbF8zFH98vyi+nOvwA7osK9jYVQynnyuE1q49r+EcWrkDeNINxgZXCeNcPrTjeglZZrDVR6Igi+LIEV2LLxTBMQq5H7IyNOO6ckAq09XRlAHKLZE1Fe0JxE4ykGgsStbjGzcWE4tci4rsKkMy2nvyKv/h0KMOT9JNkBmu7M1QsQn59Jr4R12iGvylqQWVFKUns4a56wku0155DMqrGDYsL8WoLGrWbIFChabwaX4Q6enLsHhxIi5ejMPf/xaN//vIAdMdXurTEp8erIp/zYrGv9jIfxFdFMddLcxyabRyVqOUO8rzD0dD1wjdXHGMdnk8t0j5Fyrme5BonIlGjCrZSglg+/b5GaHZheLa9+H3rVPHr8m5Y7nDHn7WxESZSWjbyCCi0a1Z9zVuLCYWuZZMsVAX4p19afYfZIOhVSDrIfQ+PoppSDDm8Km/nU/vR2kB7F3q5y9oMiHVxdAQcw1Sk6WhhlugQF4+ySuywXZHiRLzERe3mY15J0aM2IQxI9dj0+CR+HhvNXy8rhp2NxqIyXmexAC3BYl8sse69XSHFPvoSAG7neeP8hrzHUSxFAmWXCbV7VzA77KrrsPjtEz20nKZPNlP4AqXzSmU0dm8scOpRxw+KEzx4LLM9HYTi68LE4tcS6ZYyILoXs/hh084bJ3mULxYqO0zURygfCn6+50cXhzncJ6N8+0kh6HlHOqxsRbjerksOS0TmfUaRzKZ615BEfcB2he4hCkFVuBC50744s2SeHVbU2yeNgKThq1Es/jnUaTwuzyfiu/qHlHhnezH9PMlyvB6EmpTsPo5vLXO4dJjvDa6Qr1K03rg9YTaL4BiMnEUtFPxDr/sTRHi94++to+JxdeFiUWuJVMsFMQcxSfqq7QIDuz2y/Vf70mswODAgb6fP20Cn+rl/SHmckuWEb0fQ5TpqWCpumCVCZripYG3IQ/SaliI2W4arrhUfF6+Iv65NR/whcNvni+DX2aUw0++Vw1Hj/bA9OkPYcCAeejXbyL69GmBhg1vI1FeGrfcDOVOyHrQWA8laqkI74P3O3SrRSuDDV6JZEo7Dz1Bko+Guw8ilyk4r9CV6to1OGHLxOLrwsQi1yKxUCPI5zVkzUg+iy7DwP5+WX51JwbnHwRQjU6Nu1BAVIKhxCZZEAqGqur2JKIAqOb9EI+5kpjv4rDQVcNyWgarXUU87mK4rqg3w9gf+UT/10zyeTRee6UZPjxaC3+bXhD/2Orw8x8qJyIPVq0qRhGIxdq1sZg/vxypQ2rx3rmN+HOcKOagkaStW/vD3OVGKO4ynmwhbUmowXAa56KgprqFh9KiUBq5ekfUY+P3vqhYz2BiYnGzMbHItawnE+guFPdGc+oJrPoVmuxYXYwqs6ckpmALQ8Igq0PJTBKM4FnEgpFZr/EV9SgO7d3d6OHmkbtpWZT1hpmrF6Ujn/oXuP8Pejr8lqLw2U/L4557dmNap6X4oE1VfN6MT/lFFKUV/hSHCsLGx0ejR4+KZARZitTUVNSsebvXsMNZQuoKvp8oCKph8EoCC6xT7EWWj2Y+G00K5nVo0MDh9df9ZK28edUDcogoizP8HCTGjcHEIteiEZ0LcIer47kNi0mgnoR6DiQWS5f6jUdjNDTdoLpD1eMh0z+cUGSi2hKyXFS4RtWxlETlC0kMG+UGui7vdHF47ozDqZMOO3Z0ozg9g+buLA64JDxDMXmxjsMz83kdU9jIaYFkHluZm+OInvoqi+ePBwmHenAkGLIwJA6yJuR6SDw0G5l6VAKVt/S9NBBN+Re3367MzaOkHZGVkfPYxo3DxCLXogFS65HgOtFV8GtFBNapi7FmTX8AlrIeNRhLNSbUJapiOeo9yHqsYNSo1HhlumtQmZKx/MK5EqJSFJ576zv8crbD2y85rxT/4cOasWwMLZcdKOFOswGn82mfBw9SMN6rQlHhubvxSS9LIPM8mstE1cMVU9A8q37CVzgCgrGDKDtVMRVV3dI8p8Hl8xSrUKEezcFarpyyXJVUplnXsh7PuPGYWORaNPR6C5q4oVjIBq6Rltm3kWkvkXjlFYdPP/VTpdUNqdyErKnXwUgohhI9kVO4XT5PfPTElsUyejiPd8VhJy0Xda3qOBpO3q3bDhQuPIaWxz6Md3MwypX2LB2NbD3E63i5iEM6/8qNyCysoxTvgGCkk9C1J7St3BHFMCQQPyXHiWIsEpHgbfXdVCNj27Yo3rCajX0a4Q2bbTvjxmNikWvRk3klG+MMPMIGHkosAih34q23HH7wA7/IrWIIihOooWcVDVkVY4kmJW7OdXm9wV+NG/tC8+wFh9+coyWR5jde7SNrQ3UnunefyG3VrdoV9dw6xHul/v1tqpdxuDDE4S90SzTAK52UI373rARDVowyUpWWnXk9CrxKKCoR1e2UQHxKlMqu+hzB2wbIFIsCvGGV6t2XXN9qMW4MJha5miEY6h7EMhfjBR5DbSOL4NQp3zRXl6J6HVQb4nvfc1ixwl+mYGDt2lGkFDlMuiE5WeX//W1ffNFh3WqS7vBURYeGbJA6toSmRInCFKJCSEioRuFQPYyiyEPLIo9XD1TiQUuC27dpStflBboNFB/Vxniby/eQASSB+9R2E8g8Us5LKlPSmNLEz5F3yT4ynGi5YhcziIbfB39XIWtKCWU7d7bizfo0lzUmEsGc2xo3FhOLXE0Z3OdqYYkri/Jhxj4oRqGUaeU1SDjUI6KxH+3ascHN8IOBJ06IvKQRqUcK4+jRKG/ou8SkRg2KSSmH6dx/Ey2JgOkvy6NkyfvwxhtFUKeOLB01yijUcc0Q51bz/fCr2/kuzEVaJf14vMr5Hd0nXwx2kpPc54QrSXhuF0eivQpeyvu4l2jOVrkgcmF0blkmq0kHEvxdfaKQP38pxMQ8QytDvSCa6iDUdsaNxsQiVxNNsciLxa4TzXrVbsiZIalZ1VWrUiIRWCbXQcKh8niKO8TF5SeNyRVSleTxAqTlyvmp3tpeT3T1PCgl2z9OHopADMXiRbz+ehnPOgkcP90VwTA3GcW94KJvXag3RuNXNDpWro0avSwDdcOqzmccv0uc60ZWkobehEWqG6qej8zUbR916yp5TMHNgDvkI5fmDl7XLgwbtoTXplGn1x/6btw4TCxyOUPJMpraNTyzX79D5pR/aujKOVCMIlQJukwkMrIENLu6ApxZzXbFDvoSxRv8cSd+2ndU1FaK0AJ8//tF6Yb4LoC2HcH9F7u6qORVv1Jhmwre+TXHyXvv+XU0JUDB5/CpTuYSzfAevpFLPNRdrMFwWScSKs5rmoI77tiFK1dqompVG5b+dWJikctpTx6lqZ3oTSmovAXlROT3TH+5G88848ckQjdOIfdBs4C9TOpc/Zx1G+UwTCPKEi3kCYXyFzRr2DyKQBWcO5fHK6irLlk15LkeBeg2KF6gqREX8HoqeAljKosnFyh0962ErifJICq3F2obH7knEgt/CgKJm2Y+G4m8eXcgNbUFTp7M5yWChdrXuDmYWORy1FhUm2KoV81K0wTK9L+X4lDYqyZ15gxN/WsT8YRCsQ7lOTxLlOWY1aoQqgquYe/jvakGNImR5ihZQDSvapRXgVtJUBIDjSSVqEwmfldoAlEX5ly6PuW98R/KMJVbkv08Ppr7ZDdRslao9T5K8X6ENPHES9ehXpyNFK+OmDIlD+/L0DO5GzcPE4tcjuYXnUNU/Sray7rUHKRb6RJMQHJyGRw/Hu0ViAm1r49cEA0f18xhodb7MYW5rjCGOM1NItdCUyT6sQihQjgSAYmSxqkoMJmZJCbBUL3QTWzICzB0aEvMmVMIJUvmFCUfWS06x9SgZTlRcHM5hSLFq+alqmGa0KgzBSnaGxszadL1BMm4GYQSC2FikUvQ4CplNqqB+lW7FXNIR758WzFmTA+sXl2GP5wGUeV0L3zU6GWNyH0Jtb4YxaIGxSKBYqEUbVkUii1kbqNKXXv2+PN4dOVnWRYa+JW5jbpU29BFWItWrdYjPX0QCheWhRJqvIYE7z6i7NHs6wLk9catjKV4JbnZ/KyivE1JtBc8VVevChgriBt6f+NmYGKRy1FAUUPJN5HMKQTz8SmucnjpmDYtBaVKyT1R0VqahF7DDTzVFUSUm3CeBARAoqIkJo3fUCzjLorFHIpFd4qFtslZVl+9Jsrl6JnmML2gH7PIWbIvmtZOSTRuPJHuUQavTwHZNFKbyIWSO6Tr0fmTyCUSfC5ds7aRuCWjiBvP69pIF0kBVM074qe5a8b3H/3In8w5a8KZcbMxsbgF0MTHmkjoARKo+6BMxsmTo7BkSRv67qpwrdGX6u1QLECmu6p3q5FpRvRXiNLHJQZ6Qiv1Wq6J0rCPsVGOogCU87Ios59bqKdj9iyHfXRFztZx6B8deji5yvdpdrH58yvRDVGvh1LKNXpW51LGp4RLYpBKJGCKpeg6hcZ3aBvFS06iotuCAbSG2l9N5ZYwaPj94sX+EH1/iLrxdWJicQugtGklKmmOkISry9SN2aaNw7lziiXIDWlDNJmPUrn11D5JJCDiIyK//wh5gaiylXoxFP+IoVj4tTLVTZv93AHqVnJ4/pDDxjEOtcLECiQWKry7YIHfsP34hMaGSDB0Ts0gpgK76ml5g8gVOUV0rbpu8RBJQBdaP6pUrpGngWPr+779th87CTfk3bh5mFjcIqiWpRq05svIR9RVqt4QTfWnLtTMbUsRNVJ1k7Yn64jEQgHFzkQWRtb8BFXeViHdCURuT/A6ofEbGgn68kCHC1v8rtFQjVXxhM2b/QK8OYOPco90XeoCVgzi++QxIktH1yorKDPGoUFkfm+Ib1UoQ1Tp68o6Dd9NbNxMTCxuEZTfoFoPZ0h3ogakJ+xrr/mp3qEbkOID6qp8hsgFUVwg53ZybTS1wDaSdZi5j+Yg0YxnA+mObGSD1WC17N21uh7FNhRPUAKX3KTg9ZkobpFInieKm4S+phFEKd+K06iylobhK7Bp3aXfHCYWtxBKnlLFqMtEQ8Pz8umu4ektW16vcapX4gTxZzwPhawJCZAGcKkSd/ByBTJPEVkdGr9Rv54/87kEQ6nkgW2VhKX5WHU9qhgeWJ4TiYUCnHI5Qmdx6rya2Fnl/8pTKDT+RQFWVSU3q+Kbw8TiFkLWhdKf7ySXiARjF92C2bP9FOtQ+/gmvuY1VdAz1HofPcFl9ksU9Fnn0kjXk0R1MjXkXMsU7NS4ErkDy5dnCoYE4tFH/eVKQw8+dlZk7SjAKbEItd5PElNX8fyiDgNoUaioT6dO4bJCja8LE4tbDMUPNEDrLqLh3dNa0UU449ekCN2VqBiFErLGBC3LiQZ0aYi45jXVzGEaI6JCNBNJQCgC28qKURfmnDmO94cvGEoMk5ugQsKhJgvKROX77iebg5Zlou8nF2Q7hWJFf4etFENZLFknXTa+CUwsbkFkphcj/cmJQg6/POowblg48/92oun9zpDgHIysqJGmEA0dl/m/lygZTK6H1mXfXoKhMSkaaapq25q8WTOfq1GHFq0ACmiqR6Rf0LJMStN62NvU4b15/LvBH0Jf7CvmSTG+HkwsblEkGLIGlLB1aLDfSzEzwQ+CavLgzG1l9ssFeYEoz0Gfg9ez4RO5HBIHzcwulF4ui0Lnyb59AAmGsjqVCv7hh36wVVW7FIQM3bWp3g5NmqwuXN5kQevU1aqCwysWOTxNkdjCv2l0PSyfIvdgYnGLo3oP8RXpkux2eG44n/Il/CpTimsoJVvjPqq7UhQQJTstocAU8mICWq6cDZWvG0VUP+JJoi5UzdEhsQh2PcKhXhElSu3m+adP9+tZKHbRny6ERqqqp0Yui0aIFi1aDQUKzEXp0jO5LMqbw1SxCPV0KDfj4EaHH893eIKCU7emxShyGyYW3wJk9t/LBnZ8DX18mu1r6O8rQKgxHIHh5ONcIgq61zHExWI2rQstV0BTw8CVHarJhpsRuR0axKUekBYklAsSQFMQqPq3qnFp8iB9Vg6GJlzWzGOKZ+i9yvfNmxeN+++vjvHj+2HWrPreDGXzKQyaoHn1am6/kG5HZ4djtEqSaZUoES3UOY1vDhOLbwlKglIdzpVsoP35RE8u4g/6UlamitXMcaVRzB3AZDeNnytxeR4v5pFM1D3qD1LzUY+LrBPlXSjQqWrd2d0R5T4kJ/uCMHFi1qCmBnjJatAANFkYQ4fmxUMP1aYotMO6dTFYtiwKw4b5lcllWbSJdxhe2GE7RU9D0xWPCT6XkTswsfgWIf9egrGGFoZyErL2IChWoVwLFZ4ZTzR0PYoEb+Mja6ICUZBTc5YkkmAxUXxBjVxCIdfj+nkVQpmb84kGhWXme0iAdNze5BCRS6Q4TNZ9jdyCicW3DPUcjBzpT0CkmIEK1mRNZNIYEg3w0qAtFbsNLRhqyJqQWXU5jxBV7CrF45QvqwmH/CHr99+ftfZnaJR+PoMoZqKcD3+53AwFUHuQC0THDzU4zcg9mFh8C1FvhIrDXLjgzweisSNZrQzNtSHB0DweGoQWWjCErIxRdDFeodsxlUK0cYbD2UMOfXp+VT6FUO0NWTGaIlHjVKK9oKmsB83bqmDqa0RdtlkL8xq5EROLbynq1mzWzLcAVNRXZfGUWakMzLx5o2htDENUlNLANQWg6lv4gqFgaQCJgfapV8fh8EMOv4h3+FVDh2UxDrXz+ONI1PhlhQTwz69jKadjKpft4jZJyEehkCBoQJxSuV8hKhAsdydzPyM3Y2LxLUbuh3ooFGiUlfHCC37Pw/DhyvjMizJl+lJUVFdiHinrDQNX/EFoGsQBAxwuX3b44AOHlU849G7jMIgWxl4KiSYRUkyjF5E7odwOZX7655brsR8F3TGUci3Q1uXx0sjVJfs8OUDUbav8DhOKWwcTi285shBkTWgOEZWie4gWwtq1vnC8/XZBHD3aEOnpq1CnziYsXtwc77zj8OabDq++6nDwoB8wVY6EYiEFeJxCPJ5iGZoYaBJRjY23riIBUaDykKtEkvC0q4A3XD6c5bL1REV+VZ9CwmJdo7ceJhbfESQa6tKU1VCunD+eQ0PJ27XLj/r1q6N48WmoXPkU369EzZp3oUaNmqhUqbDXwxJqpKcae3G6FpVdMdR0DVHLDUcLtxad3ToSQwqhA9dLVDTEXYWHNabFYhO3LiYW32EUk1CWZIECeSkIlSgoXfhXs5KvIAeIRquqluYooqkKg5lI1pLDZA/diRUUkIm4zSWSgiTKq5NxvaQu49bCxMK4impLKChZnmgsSVvSn0g8VNszO6qxqdGjGuuh+hSBwryZM6YZ3y5MLIwwRBHNCcKbwauyVSMb1YiGm2tiIm0b6hjGtwkTC8MwIsLEwjCMiDCxMAwjIkwsDMOICBMLwzAiwsTCMIyIMLEwDCMiTCwMw4gIEwvDMCLCxMIwjIgwsTAMIyLCioU+mFgYhhEgu1gEBMPEwjCMLASLRbly5UwsDMMIjYmFYRgRYWJhGEZEmFgYhhERJhaGYUREsFhIH0wsDMMIiYmFYRgRYWJhGEZEmFgYhhERJhaGYUREWLGoXLkykpOTsXLlShMLwzA8sdiwYQNGjhyJmJgYSCOqVKkCp39MLAzDCBAQi1GjRl0TiqpVq/pD1Nu0aWNuiGEYHgE3ZMSIEZ77UbFiRVSqVMliFoZhZCU4ZmEZnIZhhCWsWMgXMTfEMIwAYcWiadOmaNu2rYmFYRgeYcUiKSkJPXr0MLEwDMMjrFjIqujbt6+JhWEYHmHFokOHDiYWhmFcI6xYKLjZtWtXEwvDMDzCikWDBg2guIWJhWEYIqxYKPfb8iwMwwgQViz0xsTCMIwAJhaGYUSEiYVhGBFhYmEYRkSYWBiGEREmFoZhRISJhWEYEWFiYRhGRJhYGIYRESYWhmFEhImFYRgRYWJhGEZEmFgYhhERJhaGYUSEiYVhGBERVixq1aplYmEYxjWyi4VmJKtXrx6c5jlNTEw0sTAMw0NioblOR48ejbi4OLRs2dKbJNmlpaVBmFgYhiEkFlu2bMGsWbPQuXNnpKenY+nSpf68IYMHDzaxMAzDQ2Kxa9cuzxXp168fatSogXHjxsElJCR4b1auXGliYRiGJxY7d+7EihUr0LFjR1SuXNmbiMwr2Ku5Q1atWmViYRiGJxbbt2/H7NmzUaVKFes6NQwjNBILy7MwDOMrMbEwDCMiTCwMw4gIEwvDMCLCxMIwjIgwsTAMIyJMLAzDiAgTC8MwIsLEwjCMiLiuWGjlsmXLMHz4cBQoUMAwjO8wKlmxbt06b4BpDrGoX78+JkyYgOnTp3sbaiSqYRjfPdT+JRLLly/3xoxJHzLFomIliGYtWmLDps147Y038e57P/w3ed8wjFxJqPYanu+//QOcOHUa940YhQqVYlC+gq8Peu9KNUhByfpJKFkvEaXqJ6J8QioqNP43SWiblfhISPlaKd8oOUKSvlkaGh6h/m++NkLdFzkJdZ/dXEK1o2xkb4v/H+35jkbUhHptPE2QNkgjSjVKhYsaeQhRw/chauhORA3eiuhBmxE9YKNP/w3ZWB+ae9dlY21k3LMmG6sR3S87q0KwMit3R8KTX81d4okIWPHV3Ckev0Es/xYT6vtGQuD/OBuhfoschPpNg8l2X4Ql2z2W/b68Rvb7N8R9rns/C9nbBrlXhGhHWcjWFvuLEG02uF0PCMA2P3ATNWAroobsoC7sRtSI/YgadRhRY4/BuXGn4MbwzcjDcPcdgBu2B47C4TGEDN+FBg8dRNlxXM4D5GQ73ODsbPtqBomtWRm4JRubI2PApgjZeH36iw1fwfqv5t5wrPv/ZG1oBq5HmdGbUHkUryvU+luGUN/5qwj1/0tC/R45yP6bhiLbvRGSUPdYNtj4Qt6z2e/1QaHI1j7UZkK1pSyEaI8h2+3V9h2M2vyw3dSBfXAjDsGNPgI39gTc+DNwE89TLMaf9hdohTbQhsP3UFH2otm840h//AyGrz2LIavOoPbUgyg4ag8qTj6AmPH7kH/MPsRM2suT7MrBbaP3ota0g4h/+CAaPnwI8VMpRCEvOohQXzTEf0i1qftRc9JuFBh6dX22/9S8Q7ah4oTdqDrlEKqN34Z8Q7Kuz2QLCt63HbVmHkTF0fxxsv2Ad4zbhbr370axYVtRkFSeuBOtZ+5Foym7kG9QtpsiiPxDtqDo8K0oO2abR6htCgzdgqbT9qD0CF5HlnWhbsrQ3D5qO5Ln7Ufy9F18QnDZjSLEub5+gv9P/gOyNdICw7eh0gN7UHxY8HL/984/bBsaTN2LyuN38eG4G40f2sf3bEC8T6Jodd82YidaTN+PZg/t5e8XuO92oPHD+1GJ+xQYvgNV2R4aPLCbx9qOag8cQF0uj85xH/v39h1j96D5rEOo+QDbnB66WQjRPrLjPdR5L47Yg06LM1BoBBt6tnbohu5GyXH7UfehDNw2ci/iZ2Sg2oMZ6L78JKrdn4H2i0+g4XTuO4rt+L69qDI1A+0Wn0bstJO+ESFjYsJZuEkXKBZ641kXx+FGZVAwDnqmR6ul5zBm8yUM3UDWXcDojReRNP84ioxn4595DPE84e1TMpD22EnETDyARjOOosGsY2i94DiKj92PUpMPo92iE7RKMtBy9jEMffIsGs3MQOkJB5Ew6yhiJx7ihR5D3PQjaDznKGrcfwCFR8qq0RcO4H/hKJKPJpHe3zH5IDovOYby4/ciz7BdiOF+zWYdQQL/E+o9dAhV+GO1mHcUA1eeQut5J9Ft0SG0mHEAtR86gCazD6MmhSaeIpbM9zET96Lw6D1I4HVUn+D/APmH0fzij1Vk9G6kLDiCmpP3Ij9FKfb+vWg77xDuGL8HDWcdRursQ6gwdieaTNuP2Cn70GTGQcQ9uA8JvHHiea62cw4iafYBJMzcj7hpB1Bv+gGUm7gHHeYdQCvecKXH7kLPhRmoxL/5eZPVnrIXKTMPoPGD+1GDN2yZ8btRdiRvmhwCdxXedLV5vuT5B9GM+1UdzesfyOW5iVDXHRFqiDeHIqN3IX7RUVQeswNlJ+xH8xn7vcZecPhONqZd6DT/COo9wPuX95ful0ZT2ZAH72BD3IWUxUdRng285JjdqDLlANtBBh+WB5HG4+m+Ksj7N2F2Bn+TDBQbtw93rTyDND4sdZ9mNt5M6vGebb/wKGrxIdxg5hHEsy3Un8Z7eOohtJ57BDEP8vyzMlD74cNsW0e8Rl2f7anJTLafKYdRig/rfCP2ocX8kxix8SyKjNlPy4CNPpjhfKBPOYK0R86g+LiDSF92GsXYhgduOo/i449i5IYLiOfxbhvDh/mog2i56DTuWXkJSYtoSVyzKs5RLC5SLPTGsy6uKgkFI4ouyehdL2Dguku4d91ljNx0GcmLTqH0pAwUnqjGfQrNph9HyYdP4t7V59B35QX0ePQMRm2+gt4rz1NdM1Bk7CFUnkbxmH8K6Y+doWVyAXetvoCkeafQ8fHz6LmUy9acRucnz6Mdv0jqwhMoMY4XzC+XFTbWUWwUi0+izKTD6PjIKTamQygw0l+XQCFKXXCSf0+gG/8j0paeQpelJ9B/9Vk0nnsGSXMOoc/yM97nBnOOoeOjJ3HXoyfQa9FxtJ97FIWpuo11TFoqUTTBmsw9xka9H4kLjqEhxacILSn9sPWn89z8YQvJYuI2g1acRmOKwJDlp9CX7zssOY4OC44i/ZETfNof5ffMQOqiI0h/4jhSKUYx046gwzJe12NHcNeTJ1B8zF50WXQMlSbsQ+Gx+5DIm6wb97/z8VPoQdXvQkEsyhvUNxGDniYBeE0NZxxG90ePU9SOohJv4JDb5Xr0/SIgqJH9JxSlRdz0sVOoRuGuPeMEHyT70VsNaPQ+5L1vD3+7Y6in+4v3XEM2olZspDLNi7Bh9qZ1XYDbRNFVb8v7rMqDR/nAY+N64jQfCIeQh0/mamzMactOouniU7hz1Tn0W3jMW657NTvF+eBsMvc4evH8vR8/i2p8+PZdcZZP/bMYxwd1ryfOoQbvmxY8Vmcua7/0NNvKabRfcprWCNvYmIMoMeko+j15DpP2XEaJ8YcQpVBCMHz4V3nwOI95AWUmZuBOtrd8ow9h4NZLKEgxGMI2XuOh46jEbWKnn0TKknNsK1fQ8bHLWa2KyfzsvdGCa+7IMUSNPorGiy6gz+qn0Xf9M0h79BzuuN8XkgITjqHB3LNIXngOlWefQQc29H6bnkYdnrDPyito/9h5ispRFJtA9ZtxCs0XcZulZ9F20Vl0WnER3ZaeR4fll9D5kXM87kk0WXIWiYvP8sY/jqLjDntfLisHvC8Xv+AMelBkGs04hoKj/eWixYLT6Ln8PMXiJJIWnsbwDZdpYRylqFAceH3VpxxEW/4HpD12Fk0WnEKrhfwPoXvVhlZQ4uzjKDzhMJo8xh9lyn7+R+9D7MPH0HXZGVolbKxjeY6roiWh0g/biPv04I+TSHHrQMtpKH/cdkvOoA2P24QWUzuKWnNu15g3WtJCCgWFKYk3Vu1Z3HfBCaRSRNrxZio4mk+1Ocfp0h1Cdd4Q3ZeeRN9H9B1O8hpP4e5HaOkpfnQdSk46hFQKXcq8IyhItzHUNt8Ocja0f4/Mh08hPl0bstE15ZO8ER96sZP38Tc7g8JseHLBG/D+qv7gEZShid6YD6A28054n/OPPoA6c0+g7nRaw2rAvNfqzuJvPvcU7+/TdG1olbNxluVTvCV/w6rTTyBh/ml05G8cffVezcpBlJ6cgaa8J+/mQ/SeNZe847XlvXTnqosYseEpCtI53m8UHt7jbdlemvN4rdiOOjxyHnWn8eE6/giKTORDbfYp3MX7vhg/60HveQhBFJ98HE0XXkDCnDNIZnvLO4aWxuqLyD/uJDouu4Dik3ivTzqO0g/w+yy4gC4rnkKLpRSHCVdjFZNpVdx/Bf8P8BLeUUTUkSkAAAAASUVORK5CYII=)"
      ]
    },
    {
      "cell_type": "code",
      "metadata": {
        "id": "t9Pn8guJDYEc"
      },
      "source": [
        "#b)\n",
        "import turtle  \n",
        "   \n",
        "t = turtle.Turtle()  \n",
        "turtle.pensize(2)  \n",
        "turtle.speed(100)  \n",
        " \n",
        "for i in range(40):\n",
        "    for j in range(4):\n",
        "        turtle.forward(70)\n",
        "        turtle.left(90)\n",
        "    turtle.left(10)        \n",
        "turtle.done()"
      ],
      "execution_count": null,
      "outputs": []
    },
    {
      "cell_type": "markdown",
      "metadata": {
        "id": "r96oKNu-DsJH"
      },
      "source": [
        "![p3.PNG](data:image/png;base64,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)"
      ]
    },
    {
      "cell_type": "code",
      "metadata": {
        "colab": {
          "base_uri": "https://localhost:8080/"
        },
        "id": "TBSD_gCEDuz6",
        "outputId": "27257983-d894-4db9-aae4-369190dbfaf3"
      },
      "source": [
        "#Exercise-15\n",
        "#a)write a test-case to check function even numbers which return True on passing a list of all even numbers\n",
        "\n",
        "def checklistiseven(elements):\n",
        "    p=True\n",
        "    for i in elements:\n",
        "        if i%2==1:\n",
        "            p=False\n",
        "            break\n",
        "    return p\n",
        "            \n",
        "          \n",
        "elements=[]\n",
        "\n",
        "n=int(input(\"enter limit of input: \"))\n",
        "\n",
        "for i in range(n):\n",
        "    elements.append(int(input(\"element-\"+str(i+1)+\" : \")))\n",
        "\n",
        "print(checklistiseven(elements))"
      ],
      "execution_count": 37,
      "outputs": [
        {
          "output_type": "stream",
          "text": [
            "enter limit of input: 5\n",
            "element-1 : 34\n",
            "element-2 : 56\n",
            "element-3 : 54\n",
            "element-4 : 85\n",
            "element-5 : 32\n",
            "False\n"
          ],
          "name": "stdout"
        }
      ]
    },
    {
      "cell_type": "markdown",
      "metadata": {
        "id": "8CimTv5WEEOE"
      },
      "source": [
        ""
      ]
    },
    {
      "cell_type": "code",
      "metadata": {
        "colab": {
          "base_uri": "https://localhost:8080/"
        },
        "id": "j1dhfAyvEOuz",
        "outputId": "9a1a40f9-fd67-4bc5-82a3-a1dc994dd024"
      },
      "source": [
        "#b)write a test-case to check function reverse string which returns the reversed string\n",
        "\n",
        "\n",
        "def rev_string(name):\n",
        "    return name[::-1]\n",
        "\n",
        "\n",
        "name=input(\"enter any String: \")\n",
        "\n",
        "print(\"Reverse of the given String = \"+rev_string(name))"
      ],
      "execution_count": 39,
      "outputs": [
        {
          "output_type": "stream",
          "text": [
            "enter any String: sai\n",
            "Reverse of the given String = ias\n"
          ],
          "name": "stdout"
        }
      ]
    },
    {
      "cell_type": "code",
      "metadata": {
        "id": "Bgz8PjD-EfFL"
      },
      "source": [
        "#Exercise-16\n",
        "\n",
        "#a)Build any one classical data structure                                  \n",
        "\n",
        "\n",
        "stack=[]\n",
        "\n",
        "while True:\n",
        "    print(\"1.Push\\n2.Pop\\n3.Display\\n4.Exit\")\n",
        "    c=int(input(\"enter your choice: \"))\n",
        "    \n",
        "    if c==1:\n",
        "        e=int(input(\"enter element: \"))\n",
        "        stack.append(e)\n",
        "        print(\"element is Pushed\")\n",
        "    elif c==2:\n",
        "        if len(stack)==0:\n",
        "            print(\"stack is empty\")\n",
        "        else:\n",
        "            print(\"element \"+str(stack[len(stack)-1])+\" is Poped\")\n",
        "            stack.remove(stack[len(stack)-1])\n",
        "    elif c==3:\n",
        "        if len(stack)==0:\n",
        "            print(\"stack is empty\")\n",
        "        else:\n",
        "            print(\"elements in the stack : \"+str(stack))    \n",
        "    elif c==4:\n",
        "        break\n",
        "    else:\n",
        "        print(\"invalid choice......\")\n",
        "\n",
        "13"
      ],
      "execution_count": null,
      "outputs": []
    },
    {
      "cell_type": "markdown",
      "metadata": {
        "id": "N3UQF6oSEjIK"
      },
      "source": [
        "1.Push\n",
        "2.Pop\n",
        "3.Display\n",
        "4.Exit\n",
        "enter your choice: 1\n",
        "enter element: 100\n",
        "element is Pushed\n",
        "1.Push\n",
        "2.Pop\n",
        "3.Display\n",
        "4.Exit\n",
        "enter your choice: 1\n",
        "enter element: 200\n",
        "element is Pushed\n",
        "1.Push\n",
        "2.Pop\n",
        "3.Display\n",
        "4.Exit\n",
        "enter your choice: 1\n",
        "enter element: 300\n",
        "element is Pushed\n",
        "1.Push\n",
        "2.Pop\n",
        "3.Display\n",
        "4.Exit\n",
        "enter your choice: 3\n",
        "elements in the stack : [100, 200, 300]\n",
        "1.Push\n",
        "2.Pop\n",
        "3.Display\n",
        "4.Exit\n",
        "enter your choice: 2\n",
        "element 300 is Poped\n",
        "1.Push\n",
        "2.Pop\n",
        "3.Display\n",
        "4.Exit\n",
        "enter your choice: 3\n",
        "elements in the stack : [100, 200]\n",
        "1.Push\n",
        "2.Pop\n",
        "3.Display\n",
        "4.Exit\n",
        "enter your choice: 4"
      ]
    },
    {
      "cell_type": "code",
      "metadata": {
        "colab": {
          "base_uri": "https://localhost:8080/"
        },
        "id": "z5GscBMrEpSo",
        "outputId": "6713205c-8d89-4b4f-9a68-6629583ee141"
      },
      "source": [
        "#b)write a program to solve knapsack problem\n",
        " \n",
        "def knapSack(W, wt, val, n):\n",
        "\tK = [[0 for x in range(W + 1)] for x in range(n + 1)]\n",
        "\n",
        "\t \n",
        "\tfor i in range(n + 1):\n",
        "\t\tfor w in range(W + 1):\n",
        "\t\t\tif i == 0 or w == 0:\n",
        "\t\t\t\tK[i][w] = 0\n",
        "\t\t\telif wt[i-1] <= w:\n",
        "\t\t\t\tK[i][w] = max(val[i-1] + K[i-1][w-wt[i-1]], K[i-1][w])\n",
        "\t\t\telse:\n",
        "\t\t\t\tK[i][w] = K[i-1][w]\n",
        "\n",
        "\treturn K[n][W]\n",
        "\n",
        " \n",
        "val = [60, 100, 120,130]\n",
        "wt = [10, 20, 30,40]\n",
        "W = 10\n",
        "n = len(val)\n",
        "print(knapSack(W, wt, val, n))"
      ],
      "execution_count": 40,
      "outputs": [
        {
          "output_type": "stream",
          "text": [
            "60\n"
          ],
          "name": "stdout"
        }
      ]
    },
    {
      "cell_type": "code",
      "metadata": {
        "colab": {
          "base_uri": "https://localhost:8080/"
        },
        "id": "SUmps6PDExPd",
        "outputId": "5e061860-c45b-4a98-9af8-719924bfb17f"
      },
      "source": [
        "#Exercise 17-Data Analysis \n",
        "#Data analysis or manipulation using the following packages \n",
        " \n",
        " #PYTHON VERSIONS\n",
        "\n",
        "#sys\n",
        "import sys\n",
        "print('python:{}'.format(sys.version))\n",
        "\n",
        "#scipy\n",
        "import scipy\n",
        "print('scipy:{}'.format(scipy.__version__))\n",
        "\n",
        "#numpy\n",
        "import  numpy\n",
        "print('numpy:{}'.format(numpy.__version__))\n",
        "\n",
        "#matplotlib\n",
        "import  matplotlib\n",
        "print('matplotlib:{}'.format(matplotlib.__version__))\n",
        "\n",
        "import   pandas\n",
        "print('pandas:{}'.format(pandas.__version__))\n",
        "\n",
        "import  sklearn\n",
        "print('sklearn:{}'.format(sklearn.__version__))\n",
        "\n",
        "import  seaborn\n",
        "print('seaborn:{}'.format(seaborn.__version__))\n",
        "\n",
        "import  urllib\n",
        "print('urllib:{}'.format(urllib.__name__))\n",
        "\n",
        "\n",
        "import  csv\n",
        "print('csv:{}'.format(csv.__version__))"
      ],
      "execution_count": 41,
      "outputs": [
        {
          "output_type": "stream",
          "text": [
            "python:3.7.11 (default, Jul  3 2021, 18:01:19) \n",
            "[GCC 7.5.0]\n",
            "scipy:1.4.1\n",
            "numpy:1.19.5\n",
            "matplotlib:3.2.2\n",
            "pandas:1.1.5\n",
            "sklearn:0.22.2.post1\n",
            "seaborn:0.11.1\n",
            "urllib:urllib\n",
            "csv:1.0\n"
          ],
          "name": "stdout"
        }
      ]
    },
    {
      "cell_type": "code",
      "metadata": {
        "colab": {
          "base_uri": "https://localhost:8080/"
        },
        "id": "LAorbb_BE-AC",
        "outputId": "12526155-fdb8-4cc5-83d8-9e96a566b11a"
      },
      "source": [
        "#a) NumPy \n",
        "#example code for initializaing numpy array\n",
        "import numpy as np\n",
        "a=np.array([2,6,8])\n",
        "print(type(a))\n",
        "\n",
        "print(a.shape)\n",
        "print(a[0])\n",
        "print(a[1])\n",
        "print(a[2])\n",
        "\n",
        "a[0]=10\n",
        "print(a)"
      ],
      "execution_count": 42,
      "outputs": [
        {
          "output_type": "stream",
          "text": [
            "<class 'numpy.ndarray'>\n",
            "(3,)\n",
            "2\n",
            "6\n",
            "8\n",
            "[10  6  8]\n"
          ],
          "name": "stdout"
        }
      ]
    },
    {
      "cell_type": "code",
      "metadata": {
        "colab": {
          "base_uri": "https://localhost:8080/"
        },
        "id": "eLHCO9guFHlY",
        "outputId": "7b704a2c-28e8-4a99-842a-03360a69e406"
      },
      "source": [
        "#create a rank 2 array\n",
        "import numpy as np\n",
        "b=np.array([[1,2,3],[4,5,6]])\n",
        "print(b.shape)\n",
        "print(b)\n",
        "print(b[0,0],b[0,1],b[1,0])"
      ],
      "execution_count": 43,
      "outputs": [
        {
          "output_type": "stream",
          "text": [
            "(2, 3)\n",
            "[[1 2 3]\n",
            " [4 5 6]]\n",
            "1 2 4\n"
          ],
          "name": "stdout"
        }
      ]
    },
    {
      "cell_type": "code",
      "metadata": {
        "colab": {
          "base_uri": "https://localhost:8080/"
        },
        "id": "zJQtz9uMFK9t",
        "outputId": "9db3fae2-25f3-4d0e-ae0c-31e68c540368"
      },
      "source": [
        "#craete a 3x3 array of all zeros\n",
        "\n",
        "a=np.zeros((3,3))\n",
        "print(a)"
      ],
      "execution_count": 44,
      "outputs": [
        {
          "output_type": "stream",
          "text": [
            "[[0. 0. 0.]\n",
            " [0. 0. 0.]\n",
            " [0. 0. 0.]]\n"
          ],
          "name": "stdout"
        }
      ]
    },
    {
      "cell_type": "code",
      "metadata": {
        "colab": {
          "base_uri": "https://localhost:8080/"
        },
        "id": "Z-T_qg-xFPfV",
        "outputId": "975a76eb-a75f-49ad-e3dc-2a811ca44ec7"
      },
      "source": [
        "#craete a 2x2 array of all ones\n",
        "b=np.ones((2,2))\n",
        "print(b)"
      ],
      "execution_count": 45,
      "outputs": [
        {
          "output_type": "stream",
          "text": [
            "[[1. 1.]\n",
            " [1. 1.]]\n"
          ],
          "name": "stdout"
        }
      ]
    },
    {
      "cell_type": "code",
      "metadata": {
        "colab": {
          "base_uri": "https://localhost:8080/"
        },
        "id": "aEwlWbYLFV_L",
        "outputId": "6be5eb2e-54ce-43f8-de93-50baf9728d2b"
      },
      "source": [
        "#craete a 3x3 constant array\n",
        "c=np.full((3,3),7)\n",
        "print(c)"
      ],
      "execution_count": 46,
      "outputs": [
        {
          "output_type": "stream",
          "text": [
            "[[7 7 7]\n",
            " [7 7 7]\n",
            " [7 7 7]]\n"
          ],
          "name": "stdout"
        }
      ]
    },
    {
      "cell_type": "code",
      "metadata": {
        "colab": {
          "base_uri": "https://localhost:8080/"
        },
        "id": "nqDFU9ugFaFd",
        "outputId": "cf0b199b-8ada-4174-a05e-569b5687f695"
      },
      "source": [
        "#create a 3x3 array filled with random values\n",
        "\n",
        "d=np.random.random((3,3))\n",
        "print(d)"
      ],
      "execution_count": 47,
      "outputs": [
        {
          "output_type": "stream",
          "text": [
            "[[0.97415818 0.38350401 0.83435788]\n",
            " [0.09124587 0.4797029  0.65178327]\n",
            " [0.62039104 0.41336337 0.10135004]]\n"
          ],
          "name": "stdout"
        }
      ]
    },
    {
      "cell_type": "code",
      "metadata": {
        "colab": {
          "base_uri": "https://localhost:8080/"
        },
        "id": "QCoVCyIEFdjT",
        "outputId": "efb2967e-e896-4e1e-b5de-f8b93cec2895"
      },
      "source": [
        "#craete a 3x3 identity matrix\n",
        "e=np.eye(3)\n",
        "print(e)"
      ],
      "execution_count": 48,
      "outputs": [
        {
          "output_type": "stream",
          "text": [
            "[[1. 0. 0.]\n",
            " [0. 1. 0.]\n",
            " [0. 0. 1.]]\n"
          ],
          "name": "stdout"
        }
      ]
    },
    {
      "cell_type": "code",
      "metadata": {
        "colab": {
          "base_uri": "https://localhost:8080/"
        },
        "id": "p9RaxmMFFhK7",
        "outputId": "ea75fe57-50bf-4ba2-898c-ac3b21a1064c"
      },
      "source": [
        "#convert list to array\n",
        "f=np.array([1,2,3,4])\n",
        "print(f)"
      ],
      "execution_count": 49,
      "outputs": [
        {
          "output_type": "stream",
          "text": [
            "[1 2 3 4]\n"
          ],
          "name": "stdout"
        }
      ]
    },
    {
      "cell_type": "code",
      "metadata": {
        "colab": {
          "base_uri": "https://localhost:8080/"
        },
        "id": "3uW3JVJhFly7",
        "outputId": "f698ec20-33e2-43ad-e812-9b38f52281f5"
      },
      "source": [
        "#arange() will create array with regularly incrementing values\n",
        "g=np.arange(2,10)\n",
        "print(g)"
      ],
      "execution_count": 50,
      "outputs": [
        {
          "output_type": "stream",
          "text": [
            "[2 3 4 5 6 7 8 9]\n"
          ],
          "name": "stdout"
        }
      ]
    },
    {
      "cell_type": "code",
      "metadata": {
        "colab": {
          "base_uri": "https://localhost:8080/"
        },
        "id": "3yksCZaGFp95",
        "outputId": "a71fe671-2a80-4b5f-fbed-e538301a2ff1"
      },
      "source": [
        "#note  mix of tuple and lists\n",
        "\n",
        "h=np.array([[1,2,3],[4,5,6],(1+1j,3.,2.)])\n",
        "print(h)"
      ],
      "execution_count": 51,
      "outputs": [
        {
          "output_type": "stream",
          "text": [
            "[[1.+0.j 2.+0.j 3.+0.j]\n",
            " [4.+0.j 5.+0.j 6.+0.j]\n",
            " [1.+1.j 3.+0.j 2.+0.j]]\n"
          ],
          "name": "stdout"
        }
      ]
    },
    {
      "cell_type": "code",
      "metadata": {
        "colab": {
          "base_uri": "https://localhost:8080/"
        },
        "id": "_RAJFw4DFtxj",
        "outputId": "00bb4142-a104-450d-c2ea-3dd1e12df8bd"
      },
      "source": [
        "# b) Pandas\n",
        "\n",
        "import pandas as pd\n",
        "\n",
        "s=pd.Series([1,2,3,4,5],index=['A','B','C','D','E'])\n",
        "s"
      ],
      "execution_count": 52,
      "outputs": [
        {
          "output_type": "execute_result",
          "data": {
            "text/plain": [
              "A    1\n",
              "B    2\n",
              "C    3\n",
              "D    4\n",
              "E    5\n",
              "dtype: int64"
            ]
          },
          "metadata": {
            "tags": []
          },
          "execution_count": 52
        }
      ]
    },
    {
      "cell_type": "code",
      "metadata": {
        "colab": {
          "base_uri": "https://localhost:8080/"
        },
        "id": "68l9WdTOFyXU",
        "outputId": "daddfaa2-526e-4a38-e383-b7f0f9794509"
      },
      "source": [
        "print(s)"
      ],
      "execution_count": 53,
      "outputs": [
        {
          "output_type": "stream",
          "text": [
            "A    1\n",
            "B    2\n",
            "C    3\n",
            "D    4\n",
            "E    5\n",
            "dtype: int64\n"
          ],
          "name": "stdout"
        }
      ]
    },
    {
      "cell_type": "code",
      "metadata": {
        "colab": {
          "base_uri": "https://localhost:8080/"
        },
        "id": "vFNJ9NtSF44S",
        "outputId": "86a2e189-fbb9-4f47-99fd-3da7fe439895"
      },
      "source": [
        "#creating data frame\n",
        "import pandas as pd\n",
        " \n",
        " \n",
        "data = {'Name':['pavan', 'ganesh', 'haneef', 'sai ganesh'],\n",
        "        'Age':[22, 21, 19, 18]}\n",
        " \n",
        " \n",
        "df = pd.DataFrame(data)\n",
        " \n",
        " \n",
        "print(df)"
      ],
      "execution_count": 54,
      "outputs": [
        {
          "output_type": "stream",
          "text": [
            "         Name  Age\n",
            "0       pavan   22\n",
            "1      ganesh   21\n",
            "2      haneef   19\n",
            "3  sai ganesh   18\n"
          ],
          "name": "stdout"
        }
      ]
    },
    {
      "cell_type": "code",
      "metadata": {
        "colab": {
          "base_uri": "https://localhost:8080/",
          "height": 265
        },
        "id": "veyvpW2iF8do",
        "outputId": "8c0604d0-ba7a-48a8-8ec4-9bf6e01d75ed"
      },
      "source": [
        "#import library\n",
        "\n",
        "import matplotlib.pyplot as plt\n",
        "import numpy as np\n",
        "\n",
        "x=np.arange(5)\n",
        "y=(35,45,23,27,60)\n",
        "\n",
        "plt.bar(x,y)\n",
        "plt.show()"
      ],
      "execution_count": 55,
      "outputs": [
        {
          "output_type": "display_data",
          "data": {
            "image/png": "[encoded data removed]",
            "text/plain": [
              "<Figure size 432x288 with 1 Axes>"
            ]
          },
          "metadata": {
            "tags": [],
            "needs_background": "light"
          }
        }
      ]
    },
    {
      "cell_type": "code",
      "metadata": {
        "colab": {
          "base_uri": "https://localhost:8080/",
          "height": 265
        },
        "id": "hgCoWY4QGCDu",
        "outputId": "6684d42b-7a16-4400-84ff-6cea496b0786"
      },
      "source": [
        "plt.scatter(x,y)\n",
        "plt.show()"
      ],
      "execution_count": 56,
      "outputs": [
        {
          "output_type": "display_data",
          "data": {
            "image/png": "[encoded data removed]",
            "text/plain": [
              "<Figure size 432x288 with 1 Axes>"
            ]
          },
          "metadata": {
            "tags": [],
            "needs_background": "light"
          }
        }
      ]
    },
    {
      "cell_type": "code",
      "metadata": {
        "colab": {
          "base_uri": "https://localhost:8080/",
          "height": 204
        },
        "id": "PIZBeZ1WGF_A",
        "outputId": "2050dbd0-1599-4dac-d89d-81ce1ac30318"
      },
      "source": [
        "import pandas as pd\n",
        "from sklearn.datasets import load_iris\n",
        "\n",
        "iris=load_iris()\n",
        "df=pd.DataFrame(iris.data)\n",
        "df.columns=['sepal_length','sepal_width','petal_length','petal_width']\n",
        "df.head()"
      ],
      "execution_count": 57,
      "outputs": [
        {
          "output_type": "execute_result",
          "data": {
            "text/html": [
              "<div>\n",
              "<style scoped>\n",
              "    .dataframe tbody tr th:only-of-type {\n",
              "        vertical-align: middle;\n",
              "    }\n",
              "\n",
              "    .dataframe tbody tr th {\n",
              "        vertical-align: top;\n",
              "    }\n",
              "\n",
              "    .dataframe thead th {\n",
              "        text-align: right;\n",
              "    }\n",
              "</style>\n",
              "<table border=\"1\" class=\"dataframe\">\n",
              "  <thead>\n",
              "    <tr style=\"text-align: right;\">\n",
              "      <th></th>\n",
              "      <th>sepal_length</th>\n",
              "      <th>sepal_width</th>\n",
              "      <th>petal_length</th>\n",
              "      <th>petal_width</th>\n",
              "    </tr>\n",
              "  </thead>\n",
              "  <tbody>\n",
              "    <tr>\n",
              "      <th>0</th>\n",
              "      <td>5.1</td>\n",
              "      <td>3.5</td>\n",
              "      <td>1.4</td>\n",
              "      <td>0.2</td>\n",
              "    </tr>\n",
              "    <tr>\n",
              "      <th>1</th>\n",
              "      <td>4.9</td>\n",
              "      <td>3.0</td>\n",
              "      <td>1.4</td>\n",
              "      <td>0.2</td>\n",
              "    </tr>\n",
              "    <tr>\n",
              "      <th>2</th>\n",
              "      <td>4.7</td>\n",
              "      <td>3.2</td>\n",
              "      <td>1.3</td>\n",
              "      <td>0.2</td>\n",
              "    </tr>\n",
              "    <tr>\n",
              "      <th>3</th>\n",
              "      <td>4.6</td>\n",
              "      <td>3.1</td>\n",
              "      <td>1.5</td>\n",
              "      <td>0.2</td>\n",
              "    </tr>\n",
              "    <tr>\n",
              "      <th>4</th>\n",
              "      <td>5.0</td>\n",
              "      <td>3.6</td>\n",
              "      <td>1.4</td>\n",
              "      <td>0.2</td>\n",
              "    </tr>\n",
              "  </tbody>\n",
              "</table>\n",
              "</div>"
            ],
            "text/plain": [
              "   sepal_length  sepal_width  petal_length  petal_width\n",
              "0           5.1          3.5           1.4          0.2\n",
              "1           4.9          3.0           1.4          0.2\n",
              "2           4.7          3.2           1.3          0.2\n",
              "3           4.6          3.1           1.5          0.2\n",
              "4           5.0          3.6           1.4          0.2"
            ]
          },
          "metadata": {
            "tags": []
          },
          "execution_count": 57
        }
      ]
    },
    {
      "cell_type": "code",
      "metadata": {
        "colab": {
          "base_uri": "https://localhost:8080/",
          "height": 281
        },
        "id": "M_lgLSHMGLD-",
        "outputId": "4db2b247-d06d-4b84-fbcf-7efc35c0c723"
      },
      "source": [
        "df.hist()\n",
        "plt.show()"
      ],
      "execution_count": 58,
      "outputs": [
        {
          "output_type": "display_data",
          "data": {
            "image/png": "[encoded data removed]",
            "text/plain": [
              "<Figure size 432x288 with 4 Axes>"
            ]
          },
          "metadata": {
            "tags": [],
            "needs_background": "light"
          }
        }
      ]
    },
    {
      "cell_type": "code",
      "metadata": {
        "colab": {
          "base_uri": "https://localhost:8080/",
          "height": 265
        },
        "id": "80LSGjwbGPrc",
        "outputId": "fbc33594-9736-472f-fbcd-a6c875940fa5"
      },
      "source": [
        "df.plot()\n",
        "plt.show()"
      ],
      "execution_count": 59,
      "outputs": [
        {
          "output_type": "display_data",
          "data": {
            "image/png": "[encoded data removed]",
            "text/plain": [
              "<Figure size 432x288 with 1 Axes>"
            ]
          },
          "metadata": {
            "tags": [],
            "needs_background": "light"
          }
        }
      ]
    },
    {
      "cell_type": "code",
      "metadata": {
        "colab": {
          "base_uri": "https://localhost:8080/",
          "height": 266
        },
        "id": "mLLw_Ql7GTR1",
        "outputId": "c0297663-cce8-4645-adbf-d4c817d5a8d6"
      },
      "source": [
        "df.boxplot()\n",
        "plt.show()"
      ],
      "execution_count": 60,
      "outputs": [
        {
          "output_type": "display_data",
          "data": {
            "image/png": "[encoded data removed]",
            "text/plain": [
              "<Figure size 432x288 with 1 Axes>"
            ]
          },
          "metadata": {
            "tags": [],
            "needs_background": "light"
          }
        }
      ]
    },
    {
      "cell_type": "code",
      "metadata": {
        "colab": {
          "base_uri": "https://localhost:8080/",
          "height": 652
        },
        "id": "R_FGT_tJGezV",
        "outputId": "4303b968-b2d0-41b1-f14d-a3435f81c136"
      },
      "source": [
        "#Custom labels\n",
        "x=np.linspace(0,20,1000)\n",
        "y=np.sin(x)\n",
        "\n",
        "plt.plot(x,y,label='sample Label')\n",
        "plt.title('sample plot Title')\n",
        "plt.xlabel('x axis label')\n",
        "plt.ylabel('y axis label')\n",
        "plt.grid(True)\n",
        "\n",
        "plt.figtext(0.5, 0.01, 'Fig1: sinusoidal', ha='rigth', va='bottom')\n",
        "\n",
        "plt.legrnd(loc='best',framealpha=0.5,prop={'size':'small'})\n",
        "\n",
        "plt.tight_layout(pad=1)\n",
        "\n",
        "plt.show()"
      ],
      "execution_count": 62,
      "outputs": [
        {
          "output_type": "error",
          "ename": "ValueError",
          "evalue": "ignored",
          "traceback": [
            "\u001b[0;31m---------------------------------------------------------------------------\u001b[0m",
            "\u001b[0;31mValueError\u001b[0m                                Traceback (most recent call last)",
            "\u001b[0;32m<ipython-input-62-1375e151f1fe>\u001b[0m in \u001b[0;36m<module>\u001b[0;34m()\u001b[0m\n\u001b[1;32m      9\u001b[0m \u001b[0mplt\u001b[0m\u001b[0;34m.\u001b[0m\u001b[0mgrid\u001b[0m\u001b[0;34m(\u001b[0m\u001b[0;32mTrue\u001b[0m\u001b[0;34m)\u001b[0m\u001b[0;34m\u001b[0m\u001b[0;34m\u001b[0m\u001b[0m\n\u001b[1;32m     10\u001b[0m \u001b[0;34m\u001b[0m\u001b[0m\n\u001b[0;32m---> 11\u001b[0;31m \u001b[0mplt\u001b[0m\u001b[0;34m.\u001b[0m\u001b[0mfigtext\u001b[0m\u001b[0;34m(\u001b[0m\u001b[0;36m0.5\u001b[0m\u001b[0;34m,\u001b[0m \u001b[0;36m0.01\u001b[0m\u001b[0;34m,\u001b[0m \u001b[0;34m'Fig1: sinusoidal'\u001b[0m\u001b[0;34m,\u001b[0m \u001b[0mha\u001b[0m\u001b[0;34m=\u001b[0m\u001b[0;34m'rigth'\u001b[0m\u001b[0;34m,\u001b[0m \u001b[0mva\u001b[0m\u001b[0;34m=\u001b[0m\u001b[0;34m'bottom'\u001b[0m\u001b[0;34m)\u001b[0m\u001b[0;34m\u001b[0m\u001b[0;34m\u001b[0m\u001b[0m\n\u001b[0m\u001b[1;32m     12\u001b[0m \u001b[0;34m\u001b[0m\u001b[0m\n\u001b[1;32m     13\u001b[0m \u001b[0mplt\u001b[0m\u001b[0;34m.\u001b[0m\u001b[0mlegrnd\u001b[0m\u001b[0;34m(\u001b[0m\u001b[0mloc\u001b[0m\u001b[0;34m=\u001b[0m\u001b[0;34m'best'\u001b[0m\u001b[0;34m,\u001b[0m\u001b[0mframealpha\u001b[0m\u001b[0;34m=\u001b[0m\u001b[0;36m0.5\u001b[0m\u001b[0;34m,\u001b[0m\u001b[0mprop\u001b[0m\u001b[0;34m=\u001b[0m\u001b[0;34m{\u001b[0m\u001b[0;34m'size'\u001b[0m\u001b[0;34m:\u001b[0m\u001b[0;34m'small'\u001b[0m\u001b[0;34m}\u001b[0m\u001b[0;34m)\u001b[0m\u001b[0;34m\u001b[0m\u001b[0;34m\u001b[0m\u001b[0m\n",
            "\u001b[0;32m/usr/local/lib/python3.7/dist-packages/matplotlib/pyplot.py\u001b[0m in \u001b[0;36mfigtext\u001b[0;34m(x, y, s, fontdict, withdash, **kwargs)\u001b[0m\n\u001b[1;32m   2309\u001b[0m         withdash=cbook.deprecation._deprecated_parameter, **kwargs):\n\u001b[1;32m   2310\u001b[0m     return gcf().text(\n\u001b[0;32m-> 2311\u001b[0;31m         x, y, s, fontdict=fontdict, withdash=withdash, **kwargs)\n\u001b[0m\u001b[1;32m   2312\u001b[0m \u001b[0;34m\u001b[0m\u001b[0m\n\u001b[1;32m   2313\u001b[0m \u001b[0;34m\u001b[0m\u001b[0m\n",
            "\u001b[0;32m/usr/local/lib/python3.7/dist-packages/matplotlib/cbook/deprecation.py\u001b[0m in \u001b[0;36mwrapper\u001b[0;34m(*args, **kwargs)\u001b[0m\n\u001b[1;32m    356\u001b[0m                 \u001b[0;34mf\"%(removal)s.  If any parameter follows {name!r}, they \"\u001b[0m\u001b[0;34m\u001b[0m\u001b[0;34m\u001b[0m\u001b[0m\n\u001b[1;32m    357\u001b[0m                 f\"should be pass as keyword, not positionally.\")\n\u001b[0;32m--> 358\u001b[0;31m         \u001b[0;32mreturn\u001b[0m \u001b[0mfunc\u001b[0m\u001b[0;34m(\u001b[0m\u001b[0;34m*\u001b[0m\u001b[0margs\u001b[0m\u001b[0;34m,\u001b[0m \u001b[0;34m**\u001b[0m\u001b[0mkwargs\u001b[0m\u001b[0;34m)\u001b[0m\u001b[0;34m\u001b[0m\u001b[0;34m\u001b[0m\u001b[0m\n\u001b[0m\u001b[1;32m    359\u001b[0m \u001b[0;34m\u001b[0m\u001b[0m\n\u001b[1;32m    360\u001b[0m     \u001b[0;32mreturn\u001b[0m \u001b[0mwrapper\u001b[0m\u001b[0;34m\u001b[0m\u001b[0;34m\u001b[0m\u001b[0m\n",
            "\u001b[0;32m/usr/local/lib/python3.7/dist-packages/matplotlib/figure.py\u001b[0m in \u001b[0;36mtext\u001b[0;34m(self, x, y, s, fontdict, withdash, **kwargs)\u001b[0m\n\u001b[1;32m   1895\u001b[0m         \u001b[0;32mif\u001b[0m \u001b[0mfontdict\u001b[0m \u001b[0;32mis\u001b[0m \u001b[0;32mnot\u001b[0m \u001b[0;32mNone\u001b[0m\u001b[0;34m:\u001b[0m\u001b[0;34m\u001b[0m\u001b[0;34m\u001b[0m\u001b[0m\n\u001b[1;32m   1896\u001b[0m             \u001b[0mtext\u001b[0m\u001b[0;34m.\u001b[0m\u001b[0mupdate\u001b[0m\u001b[0;34m(\u001b[0m\u001b[0mfontdict\u001b[0m\u001b[0;34m)\u001b[0m\u001b[0;34m\u001b[0m\u001b[0;34m\u001b[0m\u001b[0m\n\u001b[0;32m-> 1897\u001b[0;31m         \u001b[0mtext\u001b[0m\u001b[0;34m.\u001b[0m\u001b[0mupdate\u001b[0m\u001b[0;34m(\u001b[0m\u001b[0mkwargs\u001b[0m\u001b[0;34m)\u001b[0m\u001b[0;34m\u001b[0m\u001b[0;34m\u001b[0m\u001b[0m\n\u001b[0m\u001b[1;32m   1898\u001b[0m \u001b[0;34m\u001b[0m\u001b[0m\n\u001b[1;32m   1899\u001b[0m         \u001b[0mtext\u001b[0m\u001b[0;34m.\u001b[0m\u001b[0mset_figure\u001b[0m\u001b[0;34m(\u001b[0m\u001b[0mself\u001b[0m\u001b[0;34m)\u001b[0m\u001b[0;34m\u001b[0m\u001b[0;34m\u001b[0m\u001b[0m\n",
            "\u001b[0;32m/usr/local/lib/python3.7/dist-packages/matplotlib/text.py\u001b[0m in \u001b[0;36mupdate\u001b[0;34m(self, kwargs)\u001b[0m\n\u001b[1;32m    175\u001b[0m         \u001b[0msentinel\u001b[0m \u001b[0;34m=\u001b[0m \u001b[0mobject\u001b[0m\u001b[0;34m(\u001b[0m\u001b[0;34m)\u001b[0m  \u001b[0;31m# bbox can be None, so use another sentinel.\u001b[0m\u001b[0;34m\u001b[0m\u001b[0;34m\u001b[0m\u001b[0m\n\u001b[1;32m    176\u001b[0m         \u001b[0mbbox\u001b[0m \u001b[0;34m=\u001b[0m \u001b[0mkwargs\u001b[0m\u001b[0;34m.\u001b[0m\u001b[0mpop\u001b[0m\u001b[0;34m(\u001b[0m\u001b[0;34m\"bbox\"\u001b[0m\u001b[0;34m,\u001b[0m \u001b[0msentinel\u001b[0m\u001b[0;34m)\u001b[0m\u001b[0;34m\u001b[0m\u001b[0;34m\u001b[0m\u001b[0m\n\u001b[0;32m--> 177\u001b[0;31m         \u001b[0msuper\u001b[0m\u001b[0;34m(\u001b[0m\u001b[0;34m)\u001b[0m\u001b[0;34m.\u001b[0m\u001b[0mupdate\u001b[0m\u001b[0;34m(\u001b[0m\u001b[0mkwargs\u001b[0m\u001b[0;34m)\u001b[0m\u001b[0;34m\u001b[0m\u001b[0;34m\u001b[0m\u001b[0m\n\u001b[0m\u001b[1;32m    178\u001b[0m         \u001b[0;32mif\u001b[0m \u001b[0mbbox\u001b[0m \u001b[0;32mis\u001b[0m \u001b[0;32mnot\u001b[0m \u001b[0msentinel\u001b[0m\u001b[0;34m:\u001b[0m\u001b[0;34m\u001b[0m\u001b[0;34m\u001b[0m\u001b[0m\n\u001b[1;32m    179\u001b[0m             \u001b[0mself\u001b[0m\u001b[0;34m.\u001b[0m\u001b[0mset_bbox\u001b[0m\u001b[0;34m(\u001b[0m\u001b[0mbbox\u001b[0m\u001b[0;34m)\u001b[0m\u001b[0;34m\u001b[0m\u001b[0;34m\u001b[0m\u001b[0m\n",
            "\u001b[0;32m/usr/local/lib/python3.7/dist-packages/matplotlib/artist.py\u001b[0m in \u001b[0;36mupdate\u001b[0;34m(self, props)\u001b[0m\n\u001b[1;32m   1004\u001b[0m \u001b[0;34m\u001b[0m\u001b[0m\n\u001b[1;32m   1005\u001b[0m         \u001b[0;32mwith\u001b[0m \u001b[0mcbook\u001b[0m\u001b[0;34m.\u001b[0m\u001b[0m_setattr_cm\u001b[0m\u001b[0;34m(\u001b[0m\u001b[0mself\u001b[0m\u001b[0;34m,\u001b[0m \u001b[0meventson\u001b[0m\u001b[0;34m=\u001b[0m\u001b[0;32mFalse\u001b[0m\u001b[0;34m)\u001b[0m\u001b[0;34m:\u001b[0m\u001b[0;34m\u001b[0m\u001b[0;34m\u001b[0m\u001b[0m\n\u001b[0;32m-> 1006\u001b[0;31m             \u001b[0mret\u001b[0m \u001b[0;34m=\u001b[0m \u001b[0;34m[\u001b[0m\u001b[0m_update_property\u001b[0m\u001b[0;34m(\u001b[0m\u001b[0mself\u001b[0m\u001b[0;34m,\u001b[0m \u001b[0mk\u001b[0m\u001b[0;34m,\u001b[0m \u001b[0mv\u001b[0m\u001b[0;34m)\u001b[0m \u001b[0;32mfor\u001b[0m \u001b[0mk\u001b[0m\u001b[0;34m,\u001b[0m \u001b[0mv\u001b[0m \u001b[0;32min\u001b[0m \u001b[0mprops\u001b[0m\u001b[0;34m.\u001b[0m\u001b[0mitems\u001b[0m\u001b[0;34m(\u001b[0m\u001b[0;34m)\u001b[0m\u001b[0;34m]\u001b[0m\u001b[0;34m\u001b[0m\u001b[0;34m\u001b[0m\u001b[0m\n\u001b[0m\u001b[1;32m   1007\u001b[0m \u001b[0;34m\u001b[0m\u001b[0m\n\u001b[1;32m   1008\u001b[0m         \u001b[0;32mif\u001b[0m \u001b[0mlen\u001b[0m\u001b[0;34m(\u001b[0m\u001b[0mret\u001b[0m\u001b[0;34m)\u001b[0m\u001b[0;34m:\u001b[0m\u001b[0;34m\u001b[0m\u001b[0;34m\u001b[0m\u001b[0m\n",
            "\u001b[0;32m/usr/local/lib/python3.7/dist-packages/matplotlib/artist.py\u001b[0m in \u001b[0;36m<listcomp>\u001b[0;34m(.0)\u001b[0m\n\u001b[1;32m   1004\u001b[0m \u001b[0;34m\u001b[0m\u001b[0m\n\u001b[1;32m   1005\u001b[0m         \u001b[0;32mwith\u001b[0m \u001b[0mcbook\u001b[0m\u001b[0;34m.\u001b[0m\u001b[0m_setattr_cm\u001b[0m\u001b[0;34m(\u001b[0m\u001b[0mself\u001b[0m\u001b[0;34m,\u001b[0m \u001b[0meventson\u001b[0m\u001b[0;34m=\u001b[0m\u001b[0;32mFalse\u001b[0m\u001b[0;34m)\u001b[0m\u001b[0;34m:\u001b[0m\u001b[0;34m\u001b[0m\u001b[0;34m\u001b[0m\u001b[0m\n\u001b[0;32m-> 1006\u001b[0;31m             \u001b[0mret\u001b[0m \u001b[0;34m=\u001b[0m \u001b[0;34m[\u001b[0m\u001b[0m_update_property\u001b[0m\u001b[0;34m(\u001b[0m\u001b[0mself\u001b[0m\u001b[0;34m,\u001b[0m \u001b[0mk\u001b[0m\u001b[0;34m,\u001b[0m \u001b[0mv\u001b[0m\u001b[0;34m)\u001b[0m \u001b[0;32mfor\u001b[0m \u001b[0mk\u001b[0m\u001b[0;34m,\u001b[0m \u001b[0mv\u001b[0m \u001b[0;32min\u001b[0m \u001b[0mprops\u001b[0m\u001b[0;34m.\u001b[0m\u001b[0mitems\u001b[0m\u001b[0;34m(\u001b[0m\u001b[0;34m)\u001b[0m\u001b[0;34m]\u001b[0m\u001b[0;34m\u001b[0m\u001b[0;34m\u001b[0m\u001b[0m\n\u001b[0m\u001b[1;32m   1007\u001b[0m \u001b[0;34m\u001b[0m\u001b[0m\n\u001b[1;32m   1008\u001b[0m         \u001b[0;32mif\u001b[0m \u001b[0mlen\u001b[0m\u001b[0;34m(\u001b[0m\u001b[0mret\u001b[0m\u001b[0;34m)\u001b[0m\u001b[0;34m:\u001b[0m\u001b[0;34m\u001b[0m\u001b[0;34m\u001b[0m\u001b[0m\n",
            "\u001b[0;32m/usr/local/lib/python3.7/dist-packages/matplotlib/artist.py\u001b[0m in \u001b[0;36m_update_property\u001b[0;34m(self, k, v)\u001b[0m\n\u001b[1;32m   1001\u001b[0m                     raise AttributeError('{!r} object has no property {!r}'\n\u001b[1;32m   1002\u001b[0m                                          .format(type(self).__name__, k))\n\u001b[0;32m-> 1003\u001b[0;31m                 \u001b[0;32mreturn\u001b[0m \u001b[0mfunc\u001b[0m\u001b[0;34m(\u001b[0m\u001b[0mv\u001b[0m\u001b[0;34m)\u001b[0m\u001b[0;34m\u001b[0m\u001b[0;34m\u001b[0m\u001b[0m\n\u001b[0m\u001b[1;32m   1004\u001b[0m \u001b[0;34m\u001b[0m\u001b[0m\n\u001b[1;32m   1005\u001b[0m         \u001b[0;32mwith\u001b[0m \u001b[0mcbook\u001b[0m\u001b[0;34m.\u001b[0m\u001b[0m_setattr_cm\u001b[0m\u001b[0;34m(\u001b[0m\u001b[0mself\u001b[0m\u001b[0;34m,\u001b[0m \u001b[0meventson\u001b[0m\u001b[0;34m=\u001b[0m\u001b[0;32mFalse\u001b[0m\u001b[0;34m)\u001b[0m\u001b[0;34m:\u001b[0m\u001b[0;34m\u001b[0m\u001b[0;34m\u001b[0m\u001b[0m\n",
            "\u001b[0;32m/usr/local/lib/python3.7/dist-packages/matplotlib/cbook/__init__.py\u001b[0m in \u001b[0;36mmethod\u001b[0;34m(self, *args, **kwargs)\u001b[0m\n\u001b[1;32m   1891\u001b[0m         \u001b[0;34m@\u001b[0m\u001b[0mfunctools\u001b[0m\u001b[0;34m.\u001b[0m\u001b[0mwraps\u001b[0m\u001b[0;34m(\u001b[0m\u001b[0mgetattr\u001b[0m\u001b[0;34m(\u001b[0m\u001b[0mcls\u001b[0m\u001b[0;34m,\u001b[0m \u001b[0mname\u001b[0m\u001b[0;34m)\u001b[0m\u001b[0;34m)\u001b[0m\u001b[0;34m\u001b[0m\u001b[0;34m\u001b[0m\u001b[0m\n\u001b[1;32m   1892\u001b[0m         \u001b[0;32mdef\u001b[0m \u001b[0mmethod\u001b[0m\u001b[0;34m(\u001b[0m\u001b[0mself\u001b[0m\u001b[0;34m,\u001b[0m \u001b[0;34m*\u001b[0m\u001b[0margs\u001b[0m\u001b[0;34m,\u001b[0m \u001b[0;34m**\u001b[0m\u001b[0mkwargs\u001b[0m\u001b[0;34m)\u001b[0m\u001b[0;34m:\u001b[0m\u001b[0;34m\u001b[0m\u001b[0;34m\u001b[0m\u001b[0m\n\u001b[0;32m-> 1893\u001b[0;31m             \u001b[0;32mreturn\u001b[0m \u001b[0mgetattr\u001b[0m\u001b[0;34m(\u001b[0m\u001b[0mself\u001b[0m\u001b[0;34m,\u001b[0m \u001b[0mname\u001b[0m\u001b[0;34m)\u001b[0m\u001b[0;34m(\u001b[0m\u001b[0;34m*\u001b[0m\u001b[0margs\u001b[0m\u001b[0;34m,\u001b[0m \u001b[0;34m**\u001b[0m\u001b[0mkwargs\u001b[0m\u001b[0;34m)\u001b[0m\u001b[0;34m\u001b[0m\u001b[0;34m\u001b[0m\u001b[0m\n\u001b[0m\u001b[1;32m   1894\u001b[0m         \u001b[0;32mreturn\u001b[0m \u001b[0mmethod\u001b[0m\u001b[0;34m\u001b[0m\u001b[0;34m\u001b[0m\u001b[0m\n\u001b[1;32m   1895\u001b[0m \u001b[0;34m\u001b[0m\u001b[0m\n",
            "\u001b[0;32m/usr/local/lib/python3.7/dist-packages/matplotlib/text.py\u001b[0m in \u001b[0;36mset_horizontalalignment\u001b[0;34m(self, align)\u001b[0m\n\u001b[1;32m    955\u001b[0m         \u001b[0malign\u001b[0m \u001b[0;34m:\u001b[0m \u001b[0;34m{\u001b[0m\u001b[0;34m'center'\u001b[0m\u001b[0;34m,\u001b[0m \u001b[0;34m'right'\u001b[0m\u001b[0;34m,\u001b[0m \u001b[0;34m'left'\u001b[0m\u001b[0;34m}\u001b[0m\u001b[0;34m\u001b[0m\u001b[0;34m\u001b[0m\u001b[0m\n\u001b[1;32m    956\u001b[0m         \"\"\"\n\u001b[0;32m--> 957\u001b[0;31m         \u001b[0mcbook\u001b[0m\u001b[0;34m.\u001b[0m\u001b[0m_check_in_list\u001b[0m\u001b[0;34m(\u001b[0m\u001b[0;34m[\u001b[0m\u001b[0;34m'center'\u001b[0m\u001b[0;34m,\u001b[0m \u001b[0;34m'right'\u001b[0m\u001b[0;34m,\u001b[0m \u001b[0;34m'left'\u001b[0m\u001b[0;34m]\u001b[0m\u001b[0;34m,\u001b[0m \u001b[0malign\u001b[0m\u001b[0;34m=\u001b[0m\u001b[0malign\u001b[0m\u001b[0;34m)\u001b[0m\u001b[0;34m\u001b[0m\u001b[0;34m\u001b[0m\u001b[0m\n\u001b[0m\u001b[1;32m    958\u001b[0m         \u001b[0mself\u001b[0m\u001b[0;34m.\u001b[0m\u001b[0m_horizontalalignment\u001b[0m \u001b[0;34m=\u001b[0m \u001b[0malign\u001b[0m\u001b[0;34m\u001b[0m\u001b[0;34m\u001b[0m\u001b[0m\n\u001b[1;32m    959\u001b[0m         \u001b[0mself\u001b[0m\u001b[0;34m.\u001b[0m\u001b[0mstale\u001b[0m \u001b[0;34m=\u001b[0m \u001b[0;32mTrue\u001b[0m\u001b[0;34m\u001b[0m\u001b[0;34m\u001b[0m\u001b[0m\n",
            "\u001b[0;32m/usr/local/lib/python3.7/dist-packages/matplotlib/cbook/__init__.py\u001b[0m in \u001b[0;36m_check_in_list\u001b[0;34m(_values, **kwargs)\u001b[0m\n\u001b[1;32m   2143\u001b[0m             raise ValueError(\n\u001b[1;32m   2144\u001b[0m                 \u001b[0;34m\"{!r} is not a valid value for {}; supported values are {}\"\u001b[0m\u001b[0;34m\u001b[0m\u001b[0;34m\u001b[0m\u001b[0m\n\u001b[0;32m-> 2145\u001b[0;31m                 .format(v, k, ', '.join(map(repr, values))))\n\u001b[0m\u001b[1;32m   2146\u001b[0m \u001b[0;34m\u001b[0m\u001b[0m\n\u001b[1;32m   2147\u001b[0m \u001b[0;34m\u001b[0m\u001b[0m\n",
            "\u001b[0;31mValueError\u001b[0m: 'rigth' is not a valid value for align; supported values are 'center', 'right', 'left'"
          ]
        },
        {
          "output_type": "display_data",
          "data": {
            "image/png": "[encoded data removed]",
            "text/plain": [
              "<Figure size 432x288 with 1 Axes>"
            ]
          },
          "metadata": {
            "tags": [],
            "needs_background": "light"
          }
        }
      ]
    },
    {
      "cell_type": "code",
      "metadata": {
        "id": "6-TNT6yiGmUQ"
      },
      "source": [
        ""
      ],
      "execution_count": null,
      "outputs": []
    }
  ]
}